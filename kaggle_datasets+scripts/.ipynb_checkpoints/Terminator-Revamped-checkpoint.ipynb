{
 "cells": [
  {
   "cell_type": "markdown",
   "metadata": {},
   "source": [
    "# Terminator - Revamped"
   ]
  },
  {
   "cell_type": "markdown",
   "metadata": {},
   "source": [
    "## Load Libs"
   ]
  },
  {
   "cell_type": "code",
   "execution_count": 53,
   "metadata": {
    "collapsed": false
   },
   "outputs": [
    {
     "name": "stderr",
     "output_type": "stream",
     "text": [
      "/home/munaf/anaconda2/envs/py35/lib/python3.5/site-packages/matplotlib/__init__.py:1401: UserWarning:  This call to matplotlib.use() has no effect\n",
      "because the backend has already been chosen;\n",
      "matplotlib.use() must be called *before* pylab, matplotlib.pyplot,\n",
      "or matplotlib.backends is imported for the first time.\n",
      "\n",
      "  warnings.warn(_use_error_msg)\n"
     ]
    }
   ],
   "source": [
    "import pandas as pd\n",
    "import numpy as np\n",
    "import sklearn\n",
    "from sklearn.ensemble import RandomForestClassifier\n",
    "from xgboost import XGBClassifier\n",
    "from sklearn.model_selection import GridSearchCV\n",
    "from sklearn.model_selection import StratifiedKFold\n",
    "from sklearn.model_selection import cross_val_score\n",
    "from sklearn.model_selection import cross_val_predict\n",
    "import matplotlib\n",
    "matplotlib.use('Agg')\n",
    "from matplotlib import pyplot\n",
    "%matplotlib inline"
   ]
  },
  {
   "cell_type": "markdown",
   "metadata": {},
   "source": [
    "## Important Functions"
   ]
  },
  {
   "cell_type": "code",
   "execution_count": 54,
   "metadata": {
    "collapsed": true
   },
   "outputs": [],
   "source": [
    "def runNameAnalysis(df):\n",
    "    df['contains_bot'] = df['screen_name'].str.contains('bot',case=False)*1\n",
    "\n",
    "def calculateRatios(df):\n",
    "    df['ff_Ratio'] = (df['friends_count']+1)/(df['followers_count']+1)\n",
    "\n",
    "def assumeVerification(df):\n",
    "    df.ix[df['verified'].isnull() & df['ff_Ratio']<0.04,'verified'] = 1\n",
    "    df.ix[df['verified'].isnull() & df['ff_Ratio']>0.04,'verified'] = 0\n",
    "\n",
    "def isEnglish(df):\n",
    "    df['english'] = 0\n",
    "    df.ix[df['lang'].isin(['en','en-gb']),'english'] = 1\n",
    "    \n",
    "def assumeExtended(df):\n",
    "    df.ix[df['has_extended_profile'].isnull() & df['ff_Ratio']<0.02,'has_extended_profile'] = 1\n",
    "    df.ix[df['has_extended_profile'].isnull() & df['ff_Ratio']>0.02,'has_extended_profile'] = 0"
   ]
  },
  {
   "cell_type": "markdown",
   "metadata": {},
   "source": [
    "## Training Data"
   ]
  },
  {
   "cell_type": "code",
   "execution_count": 55,
   "metadata": {
    "collapsed": false
   },
   "outputs": [],
   "source": [
    "# load data\n",
    "traindata = pd.read_csv('training_data.csv', sep=\",\", encoding='latin1')\n",
    "traindata.fillna('', inplace=True)\n",
    "\n",
    "# add a column 'svm_guess' with a SVM classification of the description\n",
    "traindata['svm_guess'] = pd.read_csv('svm_guess.csv', header=None)\n",
    "\n",
    "runNameAnalysis(traindata)\n",
    "isEnglish(traindata)\n",
    "\n",
    "traindata = traindata.drop(['id', 'id_str', 'url', 'default_profile', 'default_profile_image', 'screen_name', 'location',\n",
    "              'status', 'lang', 'description', 'created_at', 'name'], 1)\n",
    "\n",
    "calculateRatios(traindata)\n",
    "assumeVerification(traindata)\n",
    "assumeExtended(traindata)\n",
    "# print(np.mean(traindata[traindata['verified']==True]['ff_Ratio']))  #mean = 0.04\n",
    "\n",
    "for c in traindata.columns:\n",
    "    if(traindata[c].dtype==object):\n",
    "        traindata[c] = (traindata[c]).astype(np.float64)\n",
    "\n",
    "X_train = traindata.drop('bot',1)\n",
    "y_train = traindata['bot']"
   ]
  },
  {
   "cell_type": "markdown",
   "metadata": {},
   "source": [
    "## Test Data"
   ]
  },
  {
   "cell_type": "code",
   "execution_count": 56,
   "metadata": {
    "collapsed": false
   },
   "outputs": [],
   "source": [
    "testdata = pd.read_csv('test_data_4_students.csv', sep=\",\", encoding='utf-8')\n",
    "testdata.fillna('', inplace=True)\n",
    "testdata = testdata[:575]\n",
    "\n",
    "# add a svm guess column\n",
    "testdata['svm_guess'] = pd.read_csv('svm_test_guess.csv', header=None)\n",
    "\n",
    "testdata['id'] = testdata['id'].astype(np.int64)\n",
    "testdata = testdata.set_index(['id'])"
   ]
  },
  {
   "cell_type": "code",
   "execution_count": 57,
   "metadata": {
    "collapsed": false
   },
   "outputs": [],
   "source": [
    "# add a column 'name_analysis'\n",
    "runNameAnalysis(testdata)\n",
    "\n",
    "# do a language analysis thingy\n",
    "isEnglish(testdata)"
   ]
  },
  {
   "cell_type": "code",
   "execution_count": 58,
   "metadata": {
    "collapsed": false
   },
   "outputs": [],
   "source": [
    "testdata = testdata.drop(['id_str', 'url', 'default_profile', 'default_profile_image', 'screen_name', 'location',\n",
    "              'status', 'description', 'created_at', 'name','bot','lang'], 1)"
   ]
  },
  {
   "cell_type": "code",
   "execution_count": 59,
   "metadata": {
    "collapsed": false
   },
   "outputs": [],
   "source": [
    "for c in testdata.columns:\n",
    "    if(testdata[c].dtype==object):\n",
    "        testdata[c] = testdata[c].replace(['TRUE','FALSE','None'], [1,0,np.NaN])\n",
    "\n",
    "for c in testdata.columns:\n",
    "    if(testdata[c].dtype==object):\n",
    "        testdata[c] = (testdata[c]).astype(np.float64)\n",
    "\n",
    "for c in testdata.drop(['verified','has_extended_profile'],1).columns:\n",
    "    testdata[c] = testdata[c].replace([np.NaN],testdata[c].mean(skipna=True, axis=0))\n",
    "\n",
    "testdata.columns = ['followers_count', 'friends_count', 'listedcount', 'favourites_count',\n",
    "       'verified', 'statuses_count','has_extended_profile','svm_guess','contains_bot','english']"
   ]
  },
  {
   "cell_type": "code",
   "execution_count": 60,
   "metadata": {
    "collapsed": false
   },
   "outputs": [
    {
     "data": {
      "text/html": [
       "<div>\n",
       "<table border=\"1\" class=\"dataframe\">\n",
       "  <thead>\n",
       "    <tr style=\"text-align: right;\">\n",
       "      <th></th>\n",
       "      <th>followers_count</th>\n",
       "      <th>friends_count</th>\n",
       "      <th>listedcount</th>\n",
       "      <th>favourites_count</th>\n",
       "      <th>verified</th>\n",
       "      <th>statuses_count</th>\n",
       "      <th>has_extended_profile</th>\n",
       "      <th>svm_guess</th>\n",
       "      <th>contains_bot</th>\n",
       "      <th>english</th>\n",
       "    </tr>\n",
       "    <tr>\n",
       "      <th>id</th>\n",
       "      <th></th>\n",
       "      <th></th>\n",
       "      <th></th>\n",
       "      <th></th>\n",
       "      <th></th>\n",
       "      <th></th>\n",
       "      <th></th>\n",
       "      <th></th>\n",
       "      <th></th>\n",
       "      <th></th>\n",
       "    </tr>\n",
       "  </thead>\n",
       "  <tbody>\n",
       "    <tr>\n",
       "      <th>2281292622</th>\n",
       "      <td>4466.0</td>\n",
       "      <td>1295.0</td>\n",
       "      <td>111.0</td>\n",
       "      <td>1579.000000</td>\n",
       "      <td>1.0</td>\n",
       "      <td>3036.0</td>\n",
       "      <td>0.0</td>\n",
       "      <td>0</td>\n",
       "      <td>0</td>\n",
       "      <td>1</td>\n",
       "    </tr>\n",
       "    <tr>\n",
       "      <th>2344040251</th>\n",
       "      <td>295.0</td>\n",
       "      <td>1016.0</td>\n",
       "      <td>10.0</td>\n",
       "      <td>300.000000</td>\n",
       "      <td>0.0</td>\n",
       "      <td>618.0</td>\n",
       "      <td>0.0</td>\n",
       "      <td>0</td>\n",
       "      <td>0</td>\n",
       "      <td>1</td>\n",
       "    </tr>\n",
       "    <tr>\n",
       "      <th>765871267</th>\n",
       "      <td>1001678.0</td>\n",
       "      <td>3017.0</td>\n",
       "      <td>14.0</td>\n",
       "      <td>13040.000000</td>\n",
       "      <td>1.0</td>\n",
       "      <td>3329.0</td>\n",
       "      <td>1.0</td>\n",
       "      <td>0</td>\n",
       "      <td>0</td>\n",
       "      <td>1</td>\n",
       "    </tr>\n",
       "    <tr>\n",
       "      <th>4772373433</th>\n",
       "      <td>445.0</td>\n",
       "      <td>487.0</td>\n",
       "      <td>17.0</td>\n",
       "      <td>1112.000000</td>\n",
       "      <td>0.0</td>\n",
       "      <td>46.0</td>\n",
       "      <td>1.0</td>\n",
       "      <td>1</td>\n",
       "      <td>0</td>\n",
       "      <td>0</td>\n",
       "    </tr>\n",
       "    <tr>\n",
       "      <th>1324548560</th>\n",
       "      <td>187.0</td>\n",
       "      <td>68.0</td>\n",
       "      <td>13.0</td>\n",
       "      <td>3576.781003</td>\n",
       "      <td>NaN</td>\n",
       "      <td>690359.0</td>\n",
       "      <td>NaN</td>\n",
       "      <td>1</td>\n",
       "      <td>1</td>\n",
       "      <td>0</td>\n",
       "    </tr>\n",
       "  </tbody>\n",
       "</table>\n",
       "</div>"
      ],
      "text/plain": [
       "            followers_count  friends_count  listedcount  favourites_count  \\\n",
       "id                                                                          \n",
       "2281292622           4466.0         1295.0        111.0       1579.000000   \n",
       "2344040251            295.0         1016.0         10.0        300.000000   \n",
       "765871267         1001678.0         3017.0         14.0      13040.000000   \n",
       "4772373433            445.0          487.0         17.0       1112.000000   \n",
       "1324548560            187.0           68.0         13.0       3576.781003   \n",
       "\n",
       "            verified  statuses_count  has_extended_profile  svm_guess  \\\n",
       "id                                                                      \n",
       "2281292622       1.0          3036.0                   0.0          0   \n",
       "2344040251       0.0           618.0                   0.0          0   \n",
       "765871267        1.0          3329.0                   1.0          0   \n",
       "4772373433       0.0            46.0                   1.0          1   \n",
       "1324548560       NaN        690359.0                   NaN          1   \n",
       "\n",
       "            contains_bot  english  \n",
       "id                                 \n",
       "2281292622             0        1  \n",
       "2344040251             0        1  \n",
       "765871267              0        1  \n",
       "4772373433             0        0  \n",
       "1324548560             1        0  "
      ]
     },
     "execution_count": 60,
     "metadata": {},
     "output_type": "execute_result"
    }
   ],
   "source": [
    "testdata.head(5)"
   ]
  },
  {
   "cell_type": "code",
   "execution_count": 61,
   "metadata": {
    "collapsed": false
   },
   "outputs": [],
   "source": [
    "# CALCULATE RATIOS HERE - AFTER TEST DATA HAS BEEN FIXED\n",
    "calculateRatios(testdata)\n",
    "assumeVerification(testdata)\n",
    "assumeExtended(testdata)"
   ]
  },
  {
   "cell_type": "code",
   "execution_count": 78,
   "metadata": {
    "collapsed": false
   },
   "outputs": [
    {
     "data": {
      "text/plain": [
       "(575, 8)"
      ]
     },
     "execution_count": 78,
     "metadata": {},
     "output_type": "execute_result"
    }
   ],
   "source": [
    "testdata.head(5)"
   ]
  },
  {
   "cell_type": "markdown",
   "metadata": {},
   "source": [
    "## Remove Items"
   ]
  },
  {
   "cell_type": "code",
   "execution_count": 81,
   "metadata": {
    "collapsed": false
   },
   "outputs": [
    {
     "data": {
      "text/html": [
       "<div>\n",
       "<table border=\"1\" class=\"dataframe\">\n",
       "  <thead>\n",
       "    <tr style=\"text-align: right;\">\n",
       "      <th></th>\n",
       "      <th>followers_count</th>\n",
       "      <th>friends_count</th>\n",
       "      <th>verified</th>\n",
       "      <th>statuses_count</th>\n",
       "      <th>has_extended_profile</th>\n",
       "      <th>contains_bot</th>\n",
       "      <th>english</th>\n",
       "      <th>ff_Ratio</th>\n",
       "    </tr>\n",
       "  </thead>\n",
       "  <tbody>\n",
       "    <tr>\n",
       "      <th>0</th>\n",
       "      <td>1291</td>\n",
       "      <td>0</td>\n",
       "      <td>True</td>\n",
       "      <td>78554</td>\n",
       "      <td>1.0</td>\n",
       "      <td>0</td>\n",
       "      <td>0</td>\n",
       "      <td>0.000774</td>\n",
       "    </tr>\n",
       "    <tr>\n",
       "      <th>1</th>\n",
       "      <td>1</td>\n",
       "      <td>349</td>\n",
       "      <td>True</td>\n",
       "      <td>31</td>\n",
       "      <td>1.0</td>\n",
       "      <td>0</td>\n",
       "      <td>1</td>\n",
       "      <td>175.000000</td>\n",
       "    </tr>\n",
       "    <tr>\n",
       "      <th>2</th>\n",
       "      <td>1086</td>\n",
       "      <td>0</td>\n",
       "      <td>True</td>\n",
       "      <td>713</td>\n",
       "      <td>1.0</td>\n",
       "      <td>1</td>\n",
       "      <td>1</td>\n",
       "      <td>0.000920</td>\n",
       "    </tr>\n",
       "    <tr>\n",
       "      <th>3</th>\n",
       "      <td>33</td>\n",
       "      <td>0</td>\n",
       "      <td>True</td>\n",
       "      <td>676</td>\n",
       "      <td>1.0</td>\n",
       "      <td>0</td>\n",
       "      <td>1</td>\n",
       "      <td>0.029412</td>\n",
       "    </tr>\n",
       "    <tr>\n",
       "      <th>4</th>\n",
       "      <td>11</td>\n",
       "      <td>745</td>\n",
       "      <td>True</td>\n",
       "      <td>185</td>\n",
       "      <td>1.0</td>\n",
       "      <td>0</td>\n",
       "      <td>1</td>\n",
       "      <td>62.166667</td>\n",
       "    </tr>\n",
       "  </tbody>\n",
       "</table>\n",
       "</div>"
      ],
      "text/plain": [
       "   followers_count  friends_count verified  statuses_count  \\\n",
       "0             1291              0     True           78554   \n",
       "1                1            349     True              31   \n",
       "2             1086              0     True             713   \n",
       "3               33              0     True             676   \n",
       "4               11            745     True             185   \n",
       "\n",
       "   has_extended_profile  contains_bot  english    ff_Ratio  \n",
       "0                   1.0             0        0    0.000774  \n",
       "1                   1.0             0        1  175.000000  \n",
       "2                   1.0             1        1    0.000920  \n",
       "3                   1.0             0        1    0.029412  \n",
       "4                   1.0             0        1   62.166667  "
      ]
     },
     "execution_count": 81,
     "metadata": {},
     "output_type": "execute_result"
    }
   ],
   "source": [
    "to_drop = ['svm_guess','listedcount','favourites_count']\n",
    "# X_train = X_train.drop(to_drop,1)\n",
    "# testdata = testdata.drop(to_drop,1)\n",
    "X_train.head(5)"
   ]
  },
  {
   "cell_type": "markdown",
   "metadata": {},
   "source": [
    "## Model(s) - Weapon(s)"
   ]
  },
  {
   "cell_type": "code",
   "execution_count": 64,
   "metadata": {
    "collapsed": false
   },
   "outputs": [
    {
     "name": "stdout",
     "output_type": "stream",
     "text": [
      "Grid Searched RF\n",
      "{'max_features': 'sqrt', 'n_estimators': 70, 'criterion': 'entropy'}\n",
      "RF: score of the best estimator over the leftout set: 0.889524490526\n",
      "RF: score of the best estimator over the complete set: 0.999284948159\n",
      "\n"
     ]
    }
   ],
   "source": [
    "rfc = RandomForestClassifier()\n",
    "param_grid = {'n_estimators': np.arange(10, 100, 10),\n",
    "              'max_features': ['sqrt', 'log2', None],\n",
    "              'criterion': ['gini', 'entropy'],\n",
    "              }\n",
    "\n",
    "'''\n",
    "All Parameters in a RFC\n",
    "            'max_depth':[None],\n",
    "            'min_samples_split':[2],\n",
    "            'min_samples_leaf':[1],\n",
    "            'min_weight_fraction_leaf':[0.0],\n",
    "            'max_leaf_nodes':[None],\n",
    "            'min_impurity_split':[1e-07],\n",
    "            'bootstrap':[True],\n",
    "            'oob_score':[False],\n",
    "            'n_jobs':[1],\n",
    "            'random_state':[None],\n",
    "            'verbose':[0],\n",
    "            'warm_start':[False],\n",
    "            'class_weight':[None]\n",
    "'''\n",
    "# # Performing a Grid Search to find best RFC\n",
    "regular_RFC = GridSearchCV(estimator=rfc, param_grid=param_grid, cv=10)\n",
    "regular_RFC.fit(X_train, y_train)\n",
    "print('Grid Searched RF')\n",
    "print(regular_RFC.best_params_)\n",
    "\n",
    "print(\"RF: score of the best estimator over the leftout set:\",regular_RFC.best_score_)\n",
    "print(\"RF: score of the best estimator over the complete set:\",regular_RFC.best_estimator_.score(X_train,y_train))\n",
    "print()"
   ]
  },
  {
   "cell_type": "code",
   "execution_count": 65,
   "metadata": {
    "collapsed": false
   },
   "outputs": [
    {
     "name": "stdout",
     "output_type": "stream",
     "text": [
      "RSXG: score of the best estimator over the leftout set: 0.890239542367\n",
      "RSXG: score of the best estimator over the complete set: 0.908115838398\n",
      "\n"
     ]
    },
    {
     "data": {
      "image/png": "[encoded data removed]",
      "text/plain": [
       "<matplotlib.figure.Figure at 0x7f9662c5dfd0>"
      ]
     },
     "metadata": {},
     "output_type": "display_data"
    }
   ],
   "source": [
    "# XGBOOST\n",
    "##############\n",
    "# ROW SAMPLING\n",
    "model = XGBClassifier()\n",
    "\n",
    "subsample = [0.1, 0.2, 0.3, 0.4, 0.5, 0.6, 0.7, 0.8, 1.0]\n",
    "param_grid = dict(subsample=subsample)\n",
    "kfold = StratifiedKFold(n_splits=10, shuffle=True, random_state=7)\n",
    "# grid_search = GridSearchCV(model, param_grid, scoring=\"neg_log_loss\", n_jobs=-1, cv=kfold)\n",
    "grid_search = GridSearchCV(model, param_grid, n_jobs=-1, cv=kfold)\n",
    "row_XG = grid_search.fit(X_train, y_train)\n",
    "\n",
    "print(\"RSXG: score of the best estimator over the leftout set:\",row_XG.best_score_)\n",
    "print(\"RSXG: score of the best estimator over the complete set:\",row_XG.best_estimator_.score(X_train,y_train))\n",
    "print()\n",
    "\n",
    "means_rs = row_XG.cv_results_['mean_test_score']\n",
    "stds_rs = row_XG.cv_results_['std_test_score']\n",
    "\n",
    "# plot\n",
    "pyplot.figure()\n",
    "pyplot.errorbar(subsample, means_rs, yerr=stds_rs)\n",
    "pyplot.title(\"XGBoost subsample vs Accuracy\")\n",
    "pyplot.xlabel('subsample')\n",
    "pyplot.ylabel('Accuracy')\n",
    "pyplot.savefig('subsample.png')"
   ]
  },
  {
   "cell_type": "code",
   "execution_count": 66,
   "metadata": {
    "collapsed": false
   },
   "outputs": [
    {
     "name": "stdout",
     "output_type": "stream",
     "text": [
      "CSXG: score of the best estimator over the leftout set: 0.891312120129\n",
      "CSXG: score of the best estimator over the complete set: 0.907758312478\n",
      "\n"
     ]
    },
    {
     "data": {
      "image/png": "[encoded data removed]",
      "text/plain": [
       "<matplotlib.figure.Figure at 0x7f9651563c88>"
      ]
     },
     "metadata": {},
     "output_type": "display_data"
    }
   ],
   "source": [
    "# COLUMN SAMPLING\n",
    "colsample_bytree = [0.2, 0.3, 0.4, 0.5, 0.6, 0.7, 0.8, 1.0]\n",
    "param_grid = dict(colsample_bytree=colsample_bytree)\n",
    "# grid_search = GridSearchCV(model, param_grid, scoring=\"neg_log_loss\", n_jobs=-1, cv=kfold)\n",
    "grid_search = GridSearchCV(model, param_grid, n_jobs=-1, cv=kfold)\n",
    "col_XG = grid_search.fit(X_train, y_train)\n",
    "\n",
    "print(\"CSXG: score of the best estimator over the leftout set:\",col_XG.best_score_)\n",
    "print(\"CSXG: score of the best estimator over the complete set:\",col_XG.best_estimator_.score(X_train,y_train))\n",
    "print()\n",
    "\n",
    "means_cs = col_XG.cv_results_['mean_test_score']\n",
    "stds_cs = col_XG.cv_results_['std_test_score']\n",
    "\n",
    "# plot\n",
    "pyplot.figure()\n",
    "pyplot.errorbar(colsample_bytree, means_cs, yerr=stds_cs)\n",
    "pyplot.title(\"XGBoost colsample_bytree vs Accuracy\")\n",
    "pyplot.xlabel('colsample_bytree')\n",
    "pyplot.ylabel('Accuracy')\n",
    "pyplot.savefig('colsample_bytree.png')"
   ]
  },
  {
   "cell_type": "code",
   "execution_count": 67,
   "metadata": {
    "collapsed": false
   },
   "outputs": [
    {
     "name": "stdout",
     "output_type": "stream",
     "text": [
      "SSXG: score of the best estimator over the leftout set: 0.890239542367\n",
      "SSXG: score of the best estimator over the complete set: 0.908115838398\n",
      "\n"
     ]
    },
    {
     "data": {
      "image/png": "[encoded data removed]",
      "text/plain": [
       "<matplotlib.figure.Figure at 0x7f96512478d0>"
      ]
     },
     "metadata": {},
     "output_type": "display_data"
    }
   ],
   "source": [
    "# SPLIT SAMPLE\n",
    "colsample_bylevel = [0.2, 0.3, 0.4, 0.5, 0.6, 0.7, 0.8, 1.0]\n",
    "param_grid = dict(colsample_bylevel=colsample_bylevel)\n",
    "# grid_search = GridSearchCV(model, param_grid, scoring=\"neg_log_loss\", n_jobs=-1, cv=kfold)\n",
    "grid_search = GridSearchCV(model, param_grid, n_jobs=-1, cv=kfold)\n",
    "split_XG = grid_search.fit(X_train, y_train)\n",
    "\n",
    "print(\"SSXG: score of the best estimator over the leftout set:\",split_XG.best_score_)\n",
    "print(\"SSXG: score of the best estimator over the complete set:\",split_XG.best_estimator_.score(X_train,y_train))\n",
    "print()\n",
    "\n",
    "means_ss = col_XG.cv_results_['mean_test_score']\n",
    "stds_ss = col_XG.cv_results_['std_test_score']\n",
    "\n",
    "# plot\n",
    "pyplot.figure()\n",
    "pyplot.errorbar(colsample_bylevel, means_ss, yerr=stds_ss)\n",
    "pyplot.title(\"XGBoost colsample_bylevel vs Accuracy\")\n",
    "pyplot.xlabel('colsample_bylevel')\n",
    "pyplot.ylabel('Accuracy')\n",
    "pyplot.savefig('colsample_bylevel.png')"
   ]
  },
  {
   "cell_type": "markdown",
   "metadata": {},
   "source": [
    "### Nuke"
   ]
  },
  {
   "cell_type": "code",
   "execution_count": 21,
   "metadata": {
    "collapsed": false
   },
   "outputs": [],
   "source": [
    "# need a better model? "
   ]
  },
  {
   "cell_type": "code",
   "execution_count": 68,
   "metadata": {
    "collapsed": false
   },
   "outputs": [
    {
     "data": {
      "text/plain": [
       "followers_count         9.691957e+07\n",
       "friends_count           6.304920e+05\n",
       "verified                1.000000e+00\n",
       "statuses_count          1.618652e+06\n",
       "has_extended_profile    1.000000e+00\n",
       "contains_bot            1.000000e+00\n",
       "english                 1.000000e+00\n",
       "ff_Ratio                6.029201e+02\n",
       "dtype: float64"
      ]
     },
     "execution_count": 68,
     "metadata": {},
     "output_type": "execute_result"
    }
   ],
   "source": [
    "np.max(testdata)"
   ]
  },
  {
   "cell_type": "markdown",
   "metadata": {},
   "source": [
    "## Create Predictions File"
   ]
  },
  {
   "cell_type": "code",
   "execution_count": 20,
   "metadata": {
    "collapsed": false
   },
   "outputs": [],
   "source": [
    "# #select model from above\n",
    "# preds_for = split_XG\n",
    "\n",
    "# testdata['y_pred'] = preds_for.predict(testdata)\n",
    "# answer = pd.DataFrame(testdata['y_pred'])\n",
    "# answer.to_csv('results_file_new.csv',index=True,index_label='Id',header=['Bot'])\n",
    "# testdata = testdata.drop('y_pred',1)"
   ]
  },
  {
   "cell_type": "markdown",
   "metadata": {
    "collapsed": true
   },
   "source": [
    "### Curves"
   ]
  },
  {
   "cell_type": "code",
   "execution_count": null,
   "metadata": {
    "collapsed": true
   },
   "outputs": [],
   "source": [
    "def reportCard(y_true, y_pred, y_proba,name):\n",
    "    from sklearn import metrics\n",
    "    import matplotlib.pyplot as plt\n",
    "    %matplotlib inline\n",
    "    print('\\nReport for:',name)\n",
    "    target_names = ['bot', 'not-bot']\n",
    "    print(metrics.classification_report(y_true, y_pred, target_names=target_names))\n",
    "    print(\"Confusion Matrix\\n\",metrics.confusion_matrix(y_true,y_pred))\n",
    "    print(\"F1 Score:\",metrics.f1_score(y_true,y_pred))\n",
    "    print(\"Accuracy:\",metrics.accuracy_score(y_true,y_pred))\n",
    "    print(\"Log Loss:\",metrics.log_loss(y_true,y_pred))\n",
    "    print(\"AUC Score:\",metrics.roc_auc_score(y_true,y_proba[:,1]))\n",
    "    \n",
    "    fpr,tpr,thresholds = metrics.roc_curve(y_true,y_proba[:,1])\n",
    "    plt.figure(1)\n",
    "    plt.plot([0, 1], [0, 1], 'k--')\n",
    "    plt.plot(fpr, tpr)\n",
    "    plt.xlabel('False positive rate')\n",
    "    plt.ylabel('True positive rate')\n",
    "    plt.title('ROC curve for {}'.format(name))\n",
    "    plt.legend(loc='best')\n",
    "    plt.show()\n",
    "\n",
    "    print()\n"
   ]
  },
  {
   "cell_type": "code",
   "execution_count": null,
   "metadata": {
    "collapsed": true
   },
   "outputs": [],
   "source": [
    "def adaboostedRFC(best_rfc,X,Y):\n",
    "    from sklearn.ensemble import AdaBoostClassifier\n",
    "\n",
    "    brfc = AdaBoostClassifier(best_rfc,\n",
    "                          algorithm=\"SAMME.R\",\n",
    "                          n_estimators=10)\n",
    "    bScores = cross_val_score(brfc, X, Y, cv=10)\n",
    "    print('mean crossvalidated accuracy for training set after Adaboost: {}'.format(np.mean(bScores)))\n",
    "    return brfc.fit(X,Y)"
   ]
  },
  {
   "cell_type": "code",
   "execution_count": null,
   "metadata": {
    "collapsed": false
   },
   "outputs": [
    {
     "name": "stdout",
     "output_type": "stream",
     "text": [
      "\n",
      "Random Forest\n",
      "\n",
      "Adaboosted\n",
      "mean crossvalidated accuracy for training set after Adaboost: 0.8842194479561737\n",
      "\n",
      "XG Boosted\n"
     ]
    }
   ],
   "source": [
    "# X_tr = X_train.iloc[:int(len(X_train)*0.8)]\n",
    "# Y_tr = y_train.iloc[:int(len(y_train)*0.8)]\n",
    "    \n",
    "# X_te = X_train.iloc[int(len(X_train)*0.8)+1:]\n",
    "# Y_te = y_train.iloc[int(len(y_train)*0.8)+1:]\n",
    "import random\n",
    "random.seed = 0\n",
    "\n",
    "split = np.random.rand(len(X_train)) < 0.8\n",
    "X_tr = X_train[split]\n",
    "X_te = X_train[~split]\n",
    "Y_tr = y_train[split]\n",
    "Y_te = y_train[~split]\n",
    "\n",
    "print(\"\\nRandom Forest\")\n",
    "best_rfc =  regular_RFC.fit(X_tr, Y_tr)\n",
    "grid_rfc_pred = best_rfc.predict(X_te)\n",
    "grid_rfc_pred_prob = best_rfc.predict_proba(X_te)\n",
    "\n",
    "print(\"\\nAdaboosted\")\n",
    "adaboosted = adaboostedRFC(best_rfc.best_estimator_,X_tr,Y_tr)\n",
    "ada_pred = adaboosted.predict(X_te)\n",
    "ada_pred_prob = adaboosted.predict_proba(X_te)\n",
    "       \n",
    "xgBoosted = {}\n",
    "print(\"\\nXG Boosted\")\n",
    "xgBoosted['rs'] = row_XG.fit(X_tr, Y_tr)\n",
    "xg_pred_rs = xgBoosted['rs'].predict(X_te)\n",
    "xg_pred_prob_rs = xgBoosted['rs'].predict_proba(X_te)\n",
    "    \n",
    "xgBoosted['cs'] = col_XG.fit(X_tr, Y_tr)\n",
    "xg_pred_cs = xgBoosted['cs'].predict(X_te)\n",
    "xg_pred_prob_cs = xgBoosted['cs'].predict_proba(X_te)\n",
    "\n",
    "xgBoosted['ss'] = split_XG.fit(X_tr, Y_tr)\n",
    "xg_pred_ss = xgBoosted['ss'].predict(X_te)\n",
    "xg_pred_prob_ss = xgBoosted['ss'].predict_proba(X_te)"
   ]
  },
  {
   "cell_type": "code",
   "execution_count": null,
   "metadata": {
    "collapsed": false
   },
   "outputs": [],
   "source": [
    "X_te.tail(5)"
   ]
  },
  {
   "cell_type": "code",
   "execution_count": 77,
   "metadata": {
    "collapsed": false
   },
   "outputs": [
    {
     "name": "stdout",
     "output_type": "stream",
     "text": [
      "*****BOF*****\n",
      "\n",
      "Report for: GridSearched RFC\n",
      "             precision    recall  f1-score   support\n",
      "\n",
      "        bot       1.00      0.90      0.95       559\n",
      "    not-bot       0.00      0.00      0.00         0\n",
      "\n",
      "avg / total       1.00      0.90      0.95       559\n",
      "\n",
      "Confusion Matrix\n",
      " [[503  56]\n",
      " [  0   0]]\n",
      "F1 Score: 0.0\n",
      "Accuracy: 0.899821109123\n"
     ]
    },
    {
     "name": "stderr",
     "output_type": "stream",
     "text": [
      "/home/munaf/anaconda2/envs/py35/lib/python3.5/site-packages/sklearn/metrics/classification.py:1115: UndefinedMetricWarning: Recall and F-score are ill-defined and being set to 0.0 in labels with no true samples.\n",
      "  'recall', 'true', average, warn_for)\n",
      "/home/munaf/anaconda2/envs/py35/lib/python3.5/site-packages/sklearn/metrics/classification.py:1115: UndefinedMetricWarning: F-score is ill-defined and being set to 0.0 due to no true samples.\n",
      "  'recall', 'true', average, warn_for)\n"
     ]
    },
    {
     "ename": "ValueError",
     "evalue": "Only one class present in y_true. ROC AUC score is not defined in that case.",
     "output_type": "error",
     "traceback": [
      "\u001b[0;31m---------------------------------------------------------------------------\u001b[0m",
      "\u001b[0;31mValueError\u001b[0m                                Traceback (most recent call last)",
      "\u001b[0;32m<ipython-input-77-f9b5bff4dba2>\u001b[0m in \u001b[0;36m<module>\u001b[0;34m()\u001b[0m\n\u001b[1;32m      1\u001b[0m \u001b[0mprint\u001b[0m\u001b[0;34m(\u001b[0m\u001b[0;34m\"*****BOF*****\"\u001b[0m\u001b[0;34m)\u001b[0m\u001b[0;34m\u001b[0m\u001b[0m\n\u001b[0;32m----> 2\u001b[0;31m \u001b[0mreportCard\u001b[0m\u001b[0;34m(\u001b[0m\u001b[0mY_te\u001b[0m\u001b[0;34m,\u001b[0m \u001b[0mgrid_rfc_pred\u001b[0m\u001b[0;34m,\u001b[0m \u001b[0mgrid_rfc_pred_prob\u001b[0m\u001b[0;34m,\u001b[0m\u001b[0;34m'GridSearched RFC'\u001b[0m\u001b[0;34m)\u001b[0m\u001b[0;34m\u001b[0m\u001b[0m\n\u001b[0m\u001b[1;32m      3\u001b[0m \u001b[0mreportCard\u001b[0m\u001b[0;34m(\u001b[0m\u001b[0mY_te\u001b[0m\u001b[0;34m,\u001b[0m \u001b[0mada_pred\u001b[0m\u001b[0;34m,\u001b[0m \u001b[0mada_pred_prob\u001b[0m\u001b[0;34m,\u001b[0m\u001b[0;34m'Adaboosted'\u001b[0m\u001b[0;34m)\u001b[0m\u001b[0;34m\u001b[0m\u001b[0m\n\u001b[1;32m      4\u001b[0m \u001b[0mreportCard\u001b[0m\u001b[0;34m(\u001b[0m\u001b[0mY_te\u001b[0m\u001b[0;34m,\u001b[0m \u001b[0mxg_pred_rs\u001b[0m\u001b[0;34m,\u001b[0m \u001b[0mxg_pred_prob_rs\u001b[0m\u001b[0;34m,\u001b[0m\u001b[0;34m'XG RS'\u001b[0m\u001b[0;34m)\u001b[0m\u001b[0;34m\u001b[0m\u001b[0m\n\u001b[1;32m      5\u001b[0m \u001b[0mreportCard\u001b[0m\u001b[0;34m(\u001b[0m\u001b[0mY_te\u001b[0m\u001b[0;34m,\u001b[0m \u001b[0mxg_pred_cs\u001b[0m\u001b[0;34m,\u001b[0m \u001b[0mxg_pred_prob_cs\u001b[0m\u001b[0;34m,\u001b[0m\u001b[0;34m'XG CS'\u001b[0m\u001b[0;34m)\u001b[0m\u001b[0;34m\u001b[0m\u001b[0m\n",
      "\u001b[0;32m<ipython-input-76-abf3b293c01f>\u001b[0m in \u001b[0;36mreportCard\u001b[0;34m(y_true, y_pred, y_proba, name)\u001b[0m\n\u001b[1;32m     10\u001b[0m     \u001b[0mprint\u001b[0m\u001b[0;34m(\u001b[0m\u001b[0;34m\"Accuracy:\"\u001b[0m\u001b[0;34m,\u001b[0m\u001b[0mmetrics\u001b[0m\u001b[0;34m.\u001b[0m\u001b[0maccuracy_score\u001b[0m\u001b[0;34m(\u001b[0m\u001b[0my_true\u001b[0m\u001b[0;34m,\u001b[0m\u001b[0my_pred\u001b[0m\u001b[0;34m)\u001b[0m\u001b[0;34m)\u001b[0m\u001b[0;34m\u001b[0m\u001b[0m\n\u001b[1;32m     11\u001b[0m \u001b[0;31m#     print(\"Log Loss:\",metrics.log_loss(y_true,y_pred))\u001b[0m\u001b[0;34m\u001b[0m\u001b[0;34m\u001b[0m\u001b[0m\n\u001b[0;32m---> 12\u001b[0;31m     \u001b[0mprint\u001b[0m\u001b[0;34m(\u001b[0m\u001b[0;34m\"AUC Score:\"\u001b[0m\u001b[0;34m,\u001b[0m\u001b[0mmetrics\u001b[0m\u001b[0;34m.\u001b[0m\u001b[0mroc_auc_score\u001b[0m\u001b[0;34m(\u001b[0m\u001b[0my_true\u001b[0m\u001b[0;34m,\u001b[0m\u001b[0my_proba\u001b[0m\u001b[0;34m[\u001b[0m\u001b[0;34m:\u001b[0m\u001b[0;34m,\u001b[0m\u001b[0;36m1\u001b[0m\u001b[0;34m]\u001b[0m\u001b[0;34m)\u001b[0m\u001b[0;34m)\u001b[0m\u001b[0;34m\u001b[0m\u001b[0m\n\u001b[0m\u001b[1;32m     13\u001b[0m \u001b[0;34m\u001b[0m\u001b[0m\n\u001b[1;32m     14\u001b[0m     \u001b[0mfpr\u001b[0m\u001b[0;34m,\u001b[0m\u001b[0mtpr\u001b[0m\u001b[0;34m,\u001b[0m\u001b[0mthresholds\u001b[0m \u001b[0;34m=\u001b[0m \u001b[0mmetrics\u001b[0m\u001b[0;34m.\u001b[0m\u001b[0mroc_curve\u001b[0m\u001b[0;34m(\u001b[0m\u001b[0my_true\u001b[0m\u001b[0;34m,\u001b[0m\u001b[0my_proba\u001b[0m\u001b[0;34m[\u001b[0m\u001b[0;34m:\u001b[0m\u001b[0;34m,\u001b[0m\u001b[0;36m1\u001b[0m\u001b[0;34m]\u001b[0m\u001b[0;34m)\u001b[0m\u001b[0;34m\u001b[0m\u001b[0m\n",
      "\u001b[0;32m/home/munaf/anaconda2/envs/py35/lib/python3.5/site-packages/sklearn/metrics/ranking.py\u001b[0m in \u001b[0;36mroc_auc_score\u001b[0;34m(y_true, y_score, average, sample_weight)\u001b[0m\n\u001b[1;32m    258\u001b[0m     return _average_binary_score(\n\u001b[1;32m    259\u001b[0m         \u001b[0m_binary_roc_auc_score\u001b[0m\u001b[0;34m,\u001b[0m \u001b[0my_true\u001b[0m\u001b[0;34m,\u001b[0m \u001b[0my_score\u001b[0m\u001b[0;34m,\u001b[0m \u001b[0maverage\u001b[0m\u001b[0;34m,\u001b[0m\u001b[0;34m\u001b[0m\u001b[0m\n\u001b[0;32m--> 260\u001b[0;31m         sample_weight=sample_weight)\n\u001b[0m\u001b[1;32m    261\u001b[0m \u001b[0;34m\u001b[0m\u001b[0m\n\u001b[1;32m    262\u001b[0m \u001b[0;34m\u001b[0m\u001b[0m\n",
      "\u001b[0;32m/home/munaf/anaconda2/envs/py35/lib/python3.5/site-packages/sklearn/metrics/base.py\u001b[0m in \u001b[0;36m_average_binary_score\u001b[0;34m(binary_metric, y_true, y_score, average, sample_weight)\u001b[0m\n\u001b[1;32m     82\u001b[0m \u001b[0;34m\u001b[0m\u001b[0m\n\u001b[1;32m     83\u001b[0m     \u001b[0;32mif\u001b[0m \u001b[0my_type\u001b[0m \u001b[0;34m==\u001b[0m \u001b[0;34m\"binary\"\u001b[0m\u001b[0;34m:\u001b[0m\u001b[0;34m\u001b[0m\u001b[0m\n\u001b[0;32m---> 84\u001b[0;31m         \u001b[0;32mreturn\u001b[0m \u001b[0mbinary_metric\u001b[0m\u001b[0;34m(\u001b[0m\u001b[0my_true\u001b[0m\u001b[0;34m,\u001b[0m \u001b[0my_score\u001b[0m\u001b[0;34m,\u001b[0m \u001b[0msample_weight\u001b[0m\u001b[0;34m=\u001b[0m\u001b[0msample_weight\u001b[0m\u001b[0;34m)\u001b[0m\u001b[0;34m\u001b[0m\u001b[0m\n\u001b[0m\u001b[1;32m     85\u001b[0m \u001b[0;34m\u001b[0m\u001b[0m\n\u001b[1;32m     86\u001b[0m     \u001b[0mcheck_consistent_length\u001b[0m\u001b[0;34m(\u001b[0m\u001b[0my_true\u001b[0m\u001b[0;34m,\u001b[0m \u001b[0my_score\u001b[0m\u001b[0;34m,\u001b[0m \u001b[0msample_weight\u001b[0m\u001b[0;34m)\u001b[0m\u001b[0;34m\u001b[0m\u001b[0m\n",
      "\u001b[0;32m/home/munaf/anaconda2/envs/py35/lib/python3.5/site-packages/sklearn/metrics/ranking.py\u001b[0m in \u001b[0;36m_binary_roc_auc_score\u001b[0;34m(y_true, y_score, sample_weight)\u001b[0m\n\u001b[1;32m    249\u001b[0m     \u001b[0;32mdef\u001b[0m \u001b[0m_binary_roc_auc_score\u001b[0m\u001b[0;34m(\u001b[0m\u001b[0my_true\u001b[0m\u001b[0;34m,\u001b[0m \u001b[0my_score\u001b[0m\u001b[0;34m,\u001b[0m \u001b[0msample_weight\u001b[0m\u001b[0;34m=\u001b[0m\u001b[0;32mNone\u001b[0m\u001b[0;34m)\u001b[0m\u001b[0;34m:\u001b[0m\u001b[0;34m\u001b[0m\u001b[0m\n\u001b[1;32m    250\u001b[0m         \u001b[0;32mif\u001b[0m \u001b[0mlen\u001b[0m\u001b[0;34m(\u001b[0m\u001b[0mnp\u001b[0m\u001b[0;34m.\u001b[0m\u001b[0munique\u001b[0m\u001b[0;34m(\u001b[0m\u001b[0my_true\u001b[0m\u001b[0;34m)\u001b[0m\u001b[0;34m)\u001b[0m \u001b[0;34m!=\u001b[0m \u001b[0;36m2\u001b[0m\u001b[0;34m:\u001b[0m\u001b[0;34m\u001b[0m\u001b[0m\n\u001b[0;32m--> 251\u001b[0;31m             raise ValueError(\"Only one class present in y_true. ROC AUC score \"\n\u001b[0m\u001b[1;32m    252\u001b[0m                              \"is not defined in that case.\")\n\u001b[1;32m    253\u001b[0m \u001b[0;34m\u001b[0m\u001b[0m\n",
      "\u001b[0;31mValueError\u001b[0m: Only one class present in y_true. ROC AUC score is not defined in that case."
     ]
    }
   ],
   "source": [
    "print(\"*****BOF*****\")\n",
    "reportCard(Y_te, grid_rfc_pred, grid_rfc_pred_prob,'GridSearched RFC')\n",
    "reportCard(Y_te, ada_pred, ada_pred_prob,'Adaboosted')\n",
    "reportCard(Y_te, xg_pred_rs, xg_pred_prob_rs,'XG RS')\n",
    "reportCard(Y_te, xg_pred_cs, xg_pred_prob_cs,'XG CS')\n",
    "reportCard(Y_te, xg_pred_ss, xg_pred_prob_ss,'XG SS')\n",
    "print(\"*****EOF*****\")"
   ]
  },
  {
   "cell_type": "code",
   "execution_count": null,
   "metadata": {
    "collapsed": true
   },
   "outputs": [],
   "source": [
    "def SingleROC(y_true, predictions,names):\n",
    "    from sklearn import metrics\n",
    "    import matplotlib.pyplot as plt\n",
    "    %matplotlib inline\n",
    "\n",
    "    plt.figure(1)\n",
    "    plt.plot([0, 1], [0, 1], 'k--')\n",
    "    \n",
    "    for y_proba, name in zip(predictions,names):\n",
    "        curr_auc = metrics.roc_auc_score(y_true,y_proba[:,1])\n",
    "    \n",
    "        fpr,tpr,thresholds = metrics.roc_curve(y_true,y_proba[:,1])\n",
    "        plt.plot(fpr, tpr, label = '{} - AUC: {}'.format(name,curr_auc))\n",
    "        \n",
    "    plt.title('ROC curves')\n",
    "    plt.xlabel('False positive rate')\n",
    "    plt.ylabel('True positive rate')\n",
    "    plt.legend(loc='best')\n",
    "    plt.show()\n",
    "    print()\n"
   ]
  }
 ],
 "metadata": {
  "kernelspec": {
   "display_name": "Python 3",
   "language": "python",
   "name": "python3"
  },
  "language_info": {
   "codemirror_mode": {
    "name": "ipython",
    "version": 3
   },
   "file_extension": ".py",
   "mimetype": "text/x-python",
   "name": "python",
   "nbconvert_exporter": "python",
   "pygments_lexer": "ipython3",
   "version": "3.5.2"
  }
 },
 "nbformat": 4,
 "nbformat_minor": 2
}
