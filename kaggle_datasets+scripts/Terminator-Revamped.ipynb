{
 "cells": [
  {
   "cell_type": "markdown",
   "metadata": {},
   "source": [
    "# Terminator - Revamped"
   ]
  },
  {
   "cell_type": "markdown",
   "metadata": {},
   "source": [
    "## Load Libs"
   ]
  },
  {
   "cell_type": "code",
   "execution_count": 1,
   "metadata": {
    "collapsed": false
   },
   "outputs": [
    {
     "name": "stderr",
     "output_type": "stream",
     "text": [
      "/home/munaf/anaconda2/envs/py35/lib/python3.5/site-packages/sklearn/cross_validation.py:44: DeprecationWarning: This module was deprecated in version 0.18 in favor of the model_selection module into which all the refactored classes and functions are moved. Also note that the interface of the new CV iterators are different from that of this module. This module will be removed in 0.20.\n",
      "  \"This module will be removed in 0.20.\", DeprecationWarning)\n"
     ]
    }
   ],
   "source": [
    "import pandas as pd\n",
    "import numpy as np\n",
    "import sklearn\n",
    "from sklearn.ensemble import RandomForestClassifier\n",
    "from xgboost import XGBClassifier\n",
    "from sklearn.model_selection import GridSearchCV\n",
    "from sklearn.model_selection import StratifiedKFold\n",
    "from sklearn.model_selection import cross_val_score\n",
    "from sklearn.model_selection import cross_val_predict\n",
    "import matplotlib\n",
    "matplotlib.use('Agg')\n",
    "from matplotlib import pyplot\n",
    "%matplotlib inline"
   ]
  },
  {
   "cell_type": "markdown",
   "metadata": {},
   "source": [
    "## Important Functions"
   ]
  },
  {
   "cell_type": "code",
   "execution_count": 2,
   "metadata": {
    "collapsed": true
   },
   "outputs": [],
   "source": [
    "def runNameAnalysis(df):\n",
    "    df['contains_bot'] = df['screen_name'].str.contains('bot',case=False)*1\n",
    "\n",
    "def calculateRatios(df):\n",
    "    df['ff_Ratio'] = (df['friends_count']+1)/(df['followers_count']+1)\n",
    "\n",
    "def assumeVerification(df):\n",
    "    df.ix[df['verified'].isnull() & df['ff_Ratio']<0.04,'verified'] = 1\n",
    "    df.ix[df['verified'].isnull() & df['ff_Ratio']>0.04,'verified'] = 0\n",
    "\n",
    "def isEnglish(df):\n",
    "    df['english'] = 0\n",
    "    df.ix[df['lang'].isin(['en','en-gb']),'english'] = 1\n",
    "    \n",
    "def assumeExtended(df):\n",
    "    df.ix[df['has_extended_profile'].isnull() & df['ff_Ratio']<0.02,'has_extended_profile'] = 1\n",
    "    df.ix[df['has_extended_profile'].isnull() & df['ff_Ratio']>0.02,'has_extended_profile'] = 0"
   ]
  },
  {
   "cell_type": "markdown",
   "metadata": {},
   "source": [
    "## Training Data"
   ]
  },
  {
   "cell_type": "code",
   "execution_count": 3,
   "metadata": {
    "collapsed": false
   },
   "outputs": [],
   "source": [
    "# load data\n",
    "traindata = pd.read_csv('training_data.csv', sep=\",\", encoding='latin1')\n",
    "traindata.fillna('', inplace=True)\n",
    "\n",
    "# add a column 'svm_guess' with a SVM classification of the description\n",
    "traindata['svm_guess'] = pd.read_csv('svm_guess.csv', header=None)\n",
    "\n",
    "runNameAnalysis(traindata)\n",
    "isEnglish(traindata)\n",
    "\n",
    "traindata = traindata.drop(['id', 'id_str', 'url', 'default_profile', 'default_profile_image', 'screen_name', 'location',\n",
    "              'status', 'lang', 'description', 'created_at', 'name'], 1)\n",
    "\n",
    "calculateRatios(traindata)\n",
    "assumeVerification(traindata)\n",
    "assumeExtended(traindata)\n",
    "# print(np.mean(traindata[traindata['verified']==True]['ff_Ratio']))  #mean = 0.04\n",
    "\n",
    "for c in traindata.columns:\n",
    "    if(traindata[c].dtype==object):\n",
    "        traindata[c] = (traindata[c]).astype(np.float64)\n",
    "\n",
    "X_train = traindata.drop('bot',1)\n",
    "y_train = traindata['bot']"
   ]
  },
  {
   "cell_type": "markdown",
   "metadata": {},
   "source": [
    "## Test Data"
   ]
  },
  {
   "cell_type": "code",
   "execution_count": 4,
   "metadata": {
    "collapsed": false
   },
   "outputs": [],
   "source": [
    "testdata = pd.read_csv('test_data_4_students.csv', sep=\",\", encoding='utf-8')\n",
    "testdata.fillna('', inplace=True)\n",
    "testdata = testdata[:575]\n",
    "\n",
    "# add a svm guess column\n",
    "testdata['svm_guess'] = pd.read_csv('svm_test_guess.csv', header=None)\n",
    "\n",
    "testdata['id'] = testdata['id'].astype(np.int64)\n",
    "testdata = testdata.set_index(['id'])"
   ]
  },
  {
   "cell_type": "code",
   "execution_count": 5,
   "metadata": {
    "collapsed": false
   },
   "outputs": [],
   "source": [
    "# add a column 'name_analysis'\n",
    "runNameAnalysis(testdata)\n",
    "\n",
    "# do a language analysis thingy\n",
    "isEnglish(testdata)"
   ]
  },
  {
   "cell_type": "code",
   "execution_count": 6,
   "metadata": {
    "collapsed": false
   },
   "outputs": [],
   "source": [
    "testdata = testdata.drop(['id_str', 'url', 'default_profile', 'default_profile_image', 'screen_name', 'location',\n",
    "              'status', 'description', 'created_at', 'name','bot','lang'], 1)"
   ]
  },
  {
   "cell_type": "code",
   "execution_count": 7,
   "metadata": {
    "collapsed": false
   },
   "outputs": [],
   "source": [
    "for c in testdata.columns:\n",
    "    if(testdata[c].dtype==object):\n",
    "        testdata[c] = testdata[c].replace(['TRUE','FALSE','None'], [1,0,np.NaN])\n",
    "\n",
    "for c in testdata.columns:\n",
    "    if(testdata[c].dtype==object):\n",
    "        testdata[c] = (testdata[c]).astype(np.float64)\n",
    "\n",
    "for c in testdata.drop(['verified','has_extended_profile'],1).columns:\n",
    "    testdata[c] = testdata[c].replace([np.NaN],testdata[c].mean(skipna=True, axis=0))\n",
    "\n",
    "testdata.columns = ['followers_count', 'friends_count', 'listedcount', 'favourites_count',\n",
    "       'verified', 'statuses_count','has_extended_profile','svm_guess','contains_bot','english']"
   ]
  },
  {
   "cell_type": "code",
   "execution_count": 8,
   "metadata": {
    "collapsed": false
   },
   "outputs": [
    {
     "data": {
      "text/html": [
       "<div>\n",
       "<table border=\"1\" class=\"dataframe\">\n",
       "  <thead>\n",
       "    <tr style=\"text-align: right;\">\n",
       "      <th></th>\n",
       "      <th>followers_count</th>\n",
       "      <th>friends_count</th>\n",
       "      <th>listedcount</th>\n",
       "      <th>favourites_count</th>\n",
       "      <th>verified</th>\n",
       "      <th>statuses_count</th>\n",
       "      <th>has_extended_profile</th>\n",
       "      <th>svm_guess</th>\n",
       "      <th>contains_bot</th>\n",
       "      <th>english</th>\n",
       "    </tr>\n",
       "    <tr>\n",
       "      <th>id</th>\n",
       "      <th></th>\n",
       "      <th></th>\n",
       "      <th></th>\n",
       "      <th></th>\n",
       "      <th></th>\n",
       "      <th></th>\n",
       "      <th></th>\n",
       "      <th></th>\n",
       "      <th></th>\n",
       "      <th></th>\n",
       "    </tr>\n",
       "  </thead>\n",
       "  <tbody>\n",
       "    <tr>\n",
       "      <th>2281292622</th>\n",
       "      <td>4466.0</td>\n",
       "      <td>1295.0</td>\n",
       "      <td>111.0</td>\n",
       "      <td>1579.000000</td>\n",
       "      <td>1.0</td>\n",
       "      <td>3036.0</td>\n",
       "      <td>0.0</td>\n",
       "      <td>0</td>\n",
       "      <td>0</td>\n",
       "      <td>1</td>\n",
       "    </tr>\n",
       "    <tr>\n",
       "      <th>2344040251</th>\n",
       "      <td>295.0</td>\n",
       "      <td>1016.0</td>\n",
       "      <td>10.0</td>\n",
       "      <td>300.000000</td>\n",
       "      <td>0.0</td>\n",
       "      <td>618.0</td>\n",
       "      <td>0.0</td>\n",
       "      <td>0</td>\n",
       "      <td>0</td>\n",
       "      <td>1</td>\n",
       "    </tr>\n",
       "    <tr>\n",
       "      <th>765871267</th>\n",
       "      <td>1001678.0</td>\n",
       "      <td>3017.0</td>\n",
       "      <td>14.0</td>\n",
       "      <td>13040.000000</td>\n",
       "      <td>1.0</td>\n",
       "      <td>3329.0</td>\n",
       "      <td>1.0</td>\n",
       "      <td>0</td>\n",
       "      <td>0</td>\n",
       "      <td>1</td>\n",
       "    </tr>\n",
       "    <tr>\n",
       "      <th>4772373433</th>\n",
       "      <td>445.0</td>\n",
       "      <td>487.0</td>\n",
       "      <td>17.0</td>\n",
       "      <td>1112.000000</td>\n",
       "      <td>0.0</td>\n",
       "      <td>46.0</td>\n",
       "      <td>1.0</td>\n",
       "      <td>1</td>\n",
       "      <td>0</td>\n",
       "      <td>0</td>\n",
       "    </tr>\n",
       "    <tr>\n",
       "      <th>1324548560</th>\n",
       "      <td>187.0</td>\n",
       "      <td>68.0</td>\n",
       "      <td>13.0</td>\n",
       "      <td>3576.781003</td>\n",
       "      <td>NaN</td>\n",
       "      <td>690359.0</td>\n",
       "      <td>NaN</td>\n",
       "      <td>1</td>\n",
       "      <td>1</td>\n",
       "      <td>0</td>\n",
       "    </tr>\n",
       "  </tbody>\n",
       "</table>\n",
       "</div>"
      ],
      "text/plain": [
       "            followers_count  friends_count  listedcount  favourites_count  \\\n",
       "id                                                                          \n",
       "2281292622           4466.0         1295.0        111.0       1579.000000   \n",
       "2344040251            295.0         1016.0         10.0        300.000000   \n",
       "765871267         1001678.0         3017.0         14.0      13040.000000   \n",
       "4772373433            445.0          487.0         17.0       1112.000000   \n",
       "1324548560            187.0           68.0         13.0       3576.781003   \n",
       "\n",
       "            verified  statuses_count  has_extended_profile  svm_guess  \\\n",
       "id                                                                      \n",
       "2281292622       1.0          3036.0                   0.0          0   \n",
       "2344040251       0.0           618.0                   0.0          0   \n",
       "765871267        1.0          3329.0                   1.0          0   \n",
       "4772373433       0.0            46.0                   1.0          1   \n",
       "1324548560       NaN        690359.0                   NaN          1   \n",
       "\n",
       "            contains_bot  english  \n",
       "id                                 \n",
       "2281292622             0        1  \n",
       "2344040251             0        1  \n",
       "765871267              0        1  \n",
       "4772373433             0        0  \n",
       "1324548560             1        0  "
      ]
     },
     "execution_count": 8,
     "metadata": {},
     "output_type": "execute_result"
    }
   ],
   "source": [
    "testdata.head(5)"
   ]
  },
  {
   "cell_type": "code",
   "execution_count": 9,
   "metadata": {
    "collapsed": false
   },
   "outputs": [],
   "source": [
    "# CALCULATE RATIOS HERE - AFTER TEST DATA HAS BEEN FIXED\n",
    "calculateRatios(testdata)\n",
    "assumeVerification(testdata)\n",
    "assumeExtended(testdata)"
   ]
  },
  {
   "cell_type": "code",
   "execution_count": 10,
   "metadata": {
    "collapsed": false
   },
   "outputs": [
    {
     "data": {
      "text/html": [
       "<div>\n",
       "<table border=\"1\" class=\"dataframe\">\n",
       "  <thead>\n",
       "    <tr style=\"text-align: right;\">\n",
       "      <th></th>\n",
       "      <th>followers_count</th>\n",
       "      <th>friends_count</th>\n",
       "      <th>listedcount</th>\n",
       "      <th>favourites_count</th>\n",
       "      <th>verified</th>\n",
       "      <th>statuses_count</th>\n",
       "      <th>has_extended_profile</th>\n",
       "      <th>bot</th>\n",
       "      <th>svm_guess</th>\n",
       "      <th>contains_bot</th>\n",
       "      <th>english</th>\n",
       "      <th>ff_Ratio</th>\n",
       "    </tr>\n",
       "  </thead>\n",
       "  <tbody>\n",
       "    <tr>\n",
       "      <th>0</th>\n",
       "      <td>1291</td>\n",
       "      <td>0</td>\n",
       "      <td>10</td>\n",
       "      <td>0</td>\n",
       "      <td>True</td>\n",
       "      <td>78554</td>\n",
       "      <td>1.0</td>\n",
       "      <td>1</td>\n",
       "      <td>1</td>\n",
       "      <td>0</td>\n",
       "      <td>0</td>\n",
       "      <td>0.000774</td>\n",
       "    </tr>\n",
       "    <tr>\n",
       "      <th>1</th>\n",
       "      <td>1</td>\n",
       "      <td>349</td>\n",
       "      <td>0</td>\n",
       "      <td>38</td>\n",
       "      <td>True</td>\n",
       "      <td>31</td>\n",
       "      <td>1.0</td>\n",
       "      <td>1</td>\n",
       "      <td>1</td>\n",
       "      <td>0</td>\n",
       "      <td>1</td>\n",
       "      <td>175.000000</td>\n",
       "    </tr>\n",
       "    <tr>\n",
       "      <th>2</th>\n",
       "      <td>1086</td>\n",
       "      <td>0</td>\n",
       "      <td>14</td>\n",
       "      <td>0</td>\n",
       "      <td>True</td>\n",
       "      <td>713</td>\n",
       "      <td>1.0</td>\n",
       "      <td>1</td>\n",
       "      <td>1</td>\n",
       "      <td>1</td>\n",
       "      <td>1</td>\n",
       "      <td>0.000920</td>\n",
       "    </tr>\n",
       "    <tr>\n",
       "      <th>3</th>\n",
       "      <td>33</td>\n",
       "      <td>0</td>\n",
       "      <td>8</td>\n",
       "      <td>0</td>\n",
       "      <td>True</td>\n",
       "      <td>676</td>\n",
       "      <td>1.0</td>\n",
       "      <td>1</td>\n",
       "      <td>0</td>\n",
       "      <td>0</td>\n",
       "      <td>1</td>\n",
       "      <td>0.029412</td>\n",
       "    </tr>\n",
       "    <tr>\n",
       "      <th>4</th>\n",
       "      <td>11</td>\n",
       "      <td>745</td>\n",
       "      <td>0</td>\n",
       "      <td>146</td>\n",
       "      <td>True</td>\n",
       "      <td>185</td>\n",
       "      <td>1.0</td>\n",
       "      <td>1</td>\n",
       "      <td>1</td>\n",
       "      <td>0</td>\n",
       "      <td>1</td>\n",
       "      <td>62.166667</td>\n",
       "    </tr>\n",
       "  </tbody>\n",
       "</table>\n",
       "</div>"
      ],
      "text/plain": [
       "   followers_count  friends_count  listedcount  favourites_count verified  \\\n",
       "0             1291              0           10                 0     True   \n",
       "1                1            349            0                38     True   \n",
       "2             1086              0           14                 0     True   \n",
       "3               33              0            8                 0     True   \n",
       "4               11            745            0               146     True   \n",
       "\n",
       "   statuses_count  has_extended_profile  bot  svm_guess  contains_bot  \\\n",
       "0           78554                   1.0    1          1             0   \n",
       "1              31                   1.0    1          1             0   \n",
       "2             713                   1.0    1          1             1   \n",
       "3             676                   1.0    1          0             0   \n",
       "4             185                   1.0    1          1             0   \n",
       "\n",
       "   english    ff_Ratio  \n",
       "0        0    0.000774  \n",
       "1        1  175.000000  \n",
       "2        1    0.000920  \n",
       "3        1    0.029412  \n",
       "4        1   62.166667  "
      ]
     },
     "execution_count": 10,
     "metadata": {},
     "output_type": "execute_result"
    }
   ],
   "source": [
    "traindata.head(5)"
   ]
  },
  {
   "cell_type": "markdown",
   "metadata": {},
   "source": [
    "## Remove Items"
   ]
  },
  {
   "cell_type": "code",
   "execution_count": 12,
   "metadata": {
    "collapsed": false
   },
   "outputs": [
    {
     "data": {
      "text/html": [
       "<div>\n",
       "<table border=\"1\" class=\"dataframe\">\n",
       "  <thead>\n",
       "    <tr style=\"text-align: right;\">\n",
       "      <th></th>\n",
       "      <th>followers_count</th>\n",
       "      <th>friends_count</th>\n",
       "      <th>verified</th>\n",
       "      <th>statuses_count</th>\n",
       "      <th>has_extended_profile</th>\n",
       "      <th>contains_bot</th>\n",
       "      <th>english</th>\n",
       "      <th>ff_Ratio</th>\n",
       "    </tr>\n",
       "  </thead>\n",
       "  <tbody>\n",
       "    <tr>\n",
       "      <th>0</th>\n",
       "      <td>1291</td>\n",
       "      <td>0</td>\n",
       "      <td>True</td>\n",
       "      <td>78554</td>\n",
       "      <td>1.0</td>\n",
       "      <td>0</td>\n",
       "      <td>0</td>\n",
       "      <td>0.000774</td>\n",
       "    </tr>\n",
       "    <tr>\n",
       "      <th>1</th>\n",
       "      <td>1</td>\n",
       "      <td>349</td>\n",
       "      <td>True</td>\n",
       "      <td>31</td>\n",
       "      <td>1.0</td>\n",
       "      <td>0</td>\n",
       "      <td>1</td>\n",
       "      <td>175.000000</td>\n",
       "    </tr>\n",
       "    <tr>\n",
       "      <th>2</th>\n",
       "      <td>1086</td>\n",
       "      <td>0</td>\n",
       "      <td>True</td>\n",
       "      <td>713</td>\n",
       "      <td>1.0</td>\n",
       "      <td>1</td>\n",
       "      <td>1</td>\n",
       "      <td>0.000920</td>\n",
       "    </tr>\n",
       "    <tr>\n",
       "      <th>3</th>\n",
       "      <td>33</td>\n",
       "      <td>0</td>\n",
       "      <td>True</td>\n",
       "      <td>676</td>\n",
       "      <td>1.0</td>\n",
       "      <td>0</td>\n",
       "      <td>1</td>\n",
       "      <td>0.029412</td>\n",
       "    </tr>\n",
       "    <tr>\n",
       "      <th>4</th>\n",
       "      <td>11</td>\n",
       "      <td>745</td>\n",
       "      <td>True</td>\n",
       "      <td>185</td>\n",
       "      <td>1.0</td>\n",
       "      <td>0</td>\n",
       "      <td>1</td>\n",
       "      <td>62.166667</td>\n",
       "    </tr>\n",
       "  </tbody>\n",
       "</table>\n",
       "</div>"
      ],
      "text/plain": [
       "   followers_count  friends_count verified  statuses_count  \\\n",
       "0             1291              0     True           78554   \n",
       "1                1            349     True              31   \n",
       "2             1086              0     True             713   \n",
       "3               33              0     True             676   \n",
       "4               11            745     True             185   \n",
       "\n",
       "   has_extended_profile  contains_bot  english    ff_Ratio  \n",
       "0                   1.0             0        0    0.000774  \n",
       "1                   1.0             0        1  175.000000  \n",
       "2                   1.0             1        1    0.000920  \n",
       "3                   1.0             0        1    0.029412  \n",
       "4                   1.0             0        1   62.166667  "
      ]
     },
     "execution_count": 12,
     "metadata": {},
     "output_type": "execute_result"
    }
   ],
   "source": [
    "to_drop = ['svm_guess','listedcount','favourites_count']\n",
    "X_train = X_train.drop(to_drop,1)\n",
    "# testdata = testdata.drop(to_drop,1)\n",
    "X_train.head(5)"
   ]
  },
  {
   "cell_type": "markdown",
   "metadata": {},
   "source": [
    "## Model(s) - Weapon(s)"
   ]
  },
  {
   "cell_type": "code",
   "execution_count": 13,
   "metadata": {
    "collapsed": false
   },
   "outputs": [
    {
     "name": "stdout",
     "output_type": "stream",
     "text": [
      "Grid Searched RF\n",
      "{'criterion': 'gini', 'max_features': 'log2', 'n_estimators': 40}\n",
      "RF: score of the best estimator over the leftout set: 0.888809438684\n",
      "RF: score of the best estimator over the complete set: 0.998569896317\n",
      "\n"
     ]
    }
   ],
   "source": [
    "rfc = RandomForestClassifier()\n",
    "param_grid = {'n_estimators': np.arange(10, 100, 10),\n",
    "              'max_features': ['sqrt', 'log2', None],\n",
    "              'criterion': ['gini', 'entropy'],\n",
    "              }\n",
    "\n",
    "'''\n",
    "All Parameters in a RFC\n",
    "            'max_depth':[None],\n",
    "            'min_samples_split':[2],\n",
    "            'min_samples_leaf':[1],\n",
    "            'min_weight_fraction_leaf':[0.0],\n",
    "            'max_leaf_nodes':[None],\n",
    "            'min_impurity_split':[1e-07],\n",
    "            'bootstrap':[True],\n",
    "            'oob_score':[False],\n",
    "            'n_jobs':[1],\n",
    "            'random_state':[None],\n",
    "            'verbose':[0],\n",
    "            'warm_start':[False],\n",
    "            'class_weight':[None]\n",
    "'''\n",
    "# # Performing a Grid Search to find best RFC\n",
    "regular_RFC = GridSearchCV(estimator=rfc, param_grid=param_grid, cv=10)\n",
    "regular_RFC.fit(X_train, y_train)\n",
    "print('Grid Searched RF')\n",
    "print(regular_RFC.best_params_)\n",
    "\n",
    "print(\"RF: score of the best estimator over the leftout set:\",regular_RFC.best_score_)\n",
    "print(\"RF: score of the best estimator over the complete set:\",regular_RFC.best_estimator_.score(X_train,y_train))\n",
    "print()"
   ]
  },
  {
   "cell_type": "code",
   "execution_count": 14,
   "metadata": {
    "collapsed": false
   },
   "outputs": [
    {
     "name": "stdout",
     "output_type": "stream",
     "text": [
      "RSXG: score of the best estimator over the leftout set: 0.890239542367\n",
      "RSXG: score of the best estimator over the complete set: 0.908115838398\n",
      "\n"
     ]
    },
    {
     "data": {
      "image/png": "[encoded data removed]",
      "text/plain": [
       "<matplotlib.figure.Figure at 0x7fe7b856ec50>"
      ]
     },
     "metadata": {},
     "output_type": "display_data"
    }
   ],
   "source": [
    "# XGBOOST\n",
    "##############\n",
    "# ROW SAMPLING\n",
    "model = XGBClassifier()\n",
    "\n",
    "subsample = [0.1, 0.2, 0.3, 0.4, 0.5, 0.6, 0.7, 0.8, 1.0]\n",
    "param_grid = dict(subsample=subsample)\n",
    "kfold = StratifiedKFold(n_splits=10, shuffle=True, random_state=7)\n",
    "# grid_search = GridSearchCV(model, param_grid, scoring=\"neg_log_loss\", n_jobs=-1, cv=kfold)\n",
    "grid_search = GridSearchCV(model, param_grid, n_jobs=-1, cv=kfold)\n",
    "row_XG = grid_search.fit(X_train, y_train)\n",
    "\n",
    "print(\"RSXG: score of the best estimator over the leftout set:\",row_XG.best_score_)\n",
    "print(\"RSXG: score of the best estimator over the complete set:\",row_XG.best_estimator_.score(X_train,y_train))\n",
    "print()\n",
    "\n",
    "means_rs = row_XG.cv_results_['mean_test_score']\n",
    "stds_rs = row_XG.cv_results_['std_test_score']\n",
    "\n",
    "# plot\n",
    "pyplot.figure()\n",
    "pyplot.errorbar(subsample, means_rs, yerr=stds_rs)\n",
    "pyplot.title(\"XGBoost subsample vs Accuracy\")\n",
    "pyplot.xlabel('subsample')\n",
    "pyplot.ylabel('Accuracy')\n",
    "pyplot.savefig('subsample.png')"
   ]
  },
  {
   "cell_type": "code",
   "execution_count": 15,
   "metadata": {
    "collapsed": false
   },
   "outputs": [
    {
     "name": "stdout",
     "output_type": "stream",
     "text": [
      "CSXG: score of the best estimator over the leftout set: 0.891312120129\n",
      "CSXG: score of the best estimator over the complete set: 0.907758312478\n",
      "\n"
     ]
    },
    {
     "data": {
      "image/png": "[encoded data removed]",
      "text/plain": [
       "<matplotlib.figure.Figure at 0x7fe7958278d0>"
      ]
     },
     "metadata": {},
     "output_type": "display_data"
    }
   ],
   "source": [
    "# COLUMN SAMPLING\n",
    "colsample_bytree = [0.2, 0.3, 0.4, 0.5, 0.6, 0.7, 0.8, 1.0]\n",
    "param_grid = dict(colsample_bytree=colsample_bytree)\n",
    "# grid_search = GridSearchCV(model, param_grid, scoring=\"neg_log_loss\", n_jobs=-1, cv=kfold)\n",
    "grid_search = GridSearchCV(model, param_grid, n_jobs=-1, cv=kfold)\n",
    "col_XG = grid_search.fit(X_train, y_train)\n",
    "\n",
    "print(\"CSXG: score of the best estimator over the leftout set:\",col_XG.best_score_)\n",
    "print(\"CSXG: score of the best estimator over the complete set:\",col_XG.best_estimator_.score(X_train,y_train))\n",
    "print()\n",
    "\n",
    "means_cs = col_XG.cv_results_['mean_test_score']\n",
    "stds_cs = col_XG.cv_results_['std_test_score']\n",
    "\n",
    "# plot\n",
    "pyplot.figure()\n",
    "pyplot.errorbar(colsample_bytree, means_cs, yerr=stds_cs)\n",
    "pyplot.title(\"XGBoost colsample_bytree vs Accuracy\")\n",
    "pyplot.xlabel('colsample_bytree')\n",
    "pyplot.ylabel('Accuracy')\n",
    "pyplot.savefig('colsample_bytree.png')"
   ]
  },
  {
   "cell_type": "code",
   "execution_count": 16,
   "metadata": {
    "collapsed": false
   },
   "outputs": [
    {
     "name": "stdout",
     "output_type": "stream",
     "text": [
      "SSXG: score of the best estimator over the leftout set: 0.890239542367\n",
      "SSXG: score of the best estimator over the complete set: 0.908115838398\n",
      "\n"
     ]
    },
    {
     "data": {
      "image/png": "[encoded data removed]",
      "text/plain": [
       "<matplotlib.figure.Figure at 0x7fe787569278>"
      ]
     },
     "metadata": {},
     "output_type": "display_data"
    }
   ],
   "source": [
    "# SPLIT SAMPLE\n",
    "colsample_bylevel = [0.2, 0.3, 0.4, 0.5, 0.6, 0.7, 0.8, 1.0]\n",
    "param_grid = dict(colsample_bylevel=colsample_bylevel)\n",
    "# grid_search = GridSearchCV(model, param_grid, scoring=\"neg_log_loss\", n_jobs=-1, cv=kfold)\n",
    "grid_search = GridSearchCV(model, param_grid, n_jobs=-1, cv=kfold)\n",
    "split_XG = grid_search.fit(X_train, y_train)\n",
    "\n",
    "print(\"SSXG: score of the best estimator over the leftout set:\",split_XG.best_score_)\n",
    "print(\"SSXG: score of the best estimator over the complete set:\",split_XG.best_estimator_.score(X_train,y_train))\n",
    "print()\n",
    "\n",
    "means_ss = col_XG.cv_results_['mean_test_score']\n",
    "stds_ss = col_XG.cv_results_['std_test_score']\n",
    "\n",
    "# plot\n",
    "pyplot.figure()\n",
    "pyplot.errorbar(colsample_bylevel, means_ss, yerr=stds_ss)\n",
    "pyplot.title(\"XGBoost colsample_bylevel vs Accuracy\")\n",
    "pyplot.xlabel('colsample_bylevel')\n",
    "pyplot.ylabel('Accuracy')\n",
    "pyplot.savefig('colsample_bylevel.png')"
   ]
  },
  {
   "cell_type": "markdown",
   "metadata": {},
   "source": [
    "### Nuke"
   ]
  },
  {
   "cell_type": "code",
   "execution_count": null,
   "metadata": {
    "collapsed": false
   },
   "outputs": [],
   "source": [
    "# need a better model? "
   ]
  },
  {
   "cell_type": "code",
   "execution_count": null,
   "metadata": {
    "collapsed": false
   },
   "outputs": [],
   "source": [
    "np.max(testdata)"
   ]
  },
  {
   "cell_type": "markdown",
   "metadata": {},
   "source": [
    "## Create Predictions File"
   ]
  },
  {
   "cell_type": "code",
   "execution_count": null,
   "metadata": {
    "collapsed": false
   },
   "outputs": [],
   "source": [
    "# #select model from above\n",
    "# preds_for = split_XG\n",
    "\n",
    "# testdata['y_pred'] = preds_for.predict(testdata)\n",
    "# answer = pd.DataFrame(testdata['y_pred'])\n",
    "# answer.to_csv('results_file_new.csv',index=True,index_label='Id',header=['Bot'])\n",
    "# testdata = testdata.drop('y_pred',1)"
   ]
  },
  {
   "cell_type": "markdown",
   "metadata": {
    "collapsed": true
   },
   "source": [
    "### Curves"
   ]
  },
  {
   "cell_type": "code",
   "execution_count": 17,
   "metadata": {
    "collapsed": true
   },
   "outputs": [],
   "source": [
    "def reportCard(y_true, y_pred, y_proba,name):\n",
    "    from sklearn import metrics\n",
    "    import matplotlib.pyplot as plt\n",
    "    %matplotlib inline\n",
    "    print('\\nReport for:',name)\n",
    "    target_names = ['bot', 'not-bot']\n",
    "    print(metrics.classification_report(y_true, y_pred, target_names=target_names))\n",
    "    print(\"Confusion Matrix\\n\",metrics.confusion_matrix(y_true,y_pred))\n",
    "    print(\"F1 Score:\",metrics.f1_score(y_true,y_pred))\n",
    "    print(\"Accuracy:\",metrics.accuracy_score(y_true,y_pred))\n",
    "    print(\"Log Loss:\",metrics.log_loss(y_true,y_pred))\n",
    "    print(\"AUC Score:\",metrics.roc_auc_score(y_true,y_proba[:,1]))\n",
    "    \n",
    "    fpr,tpr,thresholds = metrics.roc_curve(y_true,y_proba[:,1])\n",
    "    plt.figure(1)\n",
    "    plt.plot([0, 1], [0, 1], 'k--')\n",
    "    plt.plot(fpr, tpr)\n",
    "    plt.xlabel('False positive rate')\n",
    "    plt.ylabel('True positive rate')\n",
    "    plt.title('ROC curve for {}'.format(name))\n",
    "    plt.legend(loc='best')\n",
    "    plt.show()\n",
    "\n",
    "    print()\n"
   ]
  },
  {
   "cell_type": "code",
   "execution_count": 18,
   "metadata": {
    "collapsed": true
   },
   "outputs": [],
   "source": [
    "def adaboostedRFC(best_rfc,X,Y):\n",
    "    from sklearn.ensemble import AdaBoostClassifier\n",
    "\n",
    "    brfc = AdaBoostClassifier(best_rfc,\n",
    "                          algorithm=\"SAMME.R\",\n",
    "                          n_estimators=10)\n",
    "    bScores = cross_val_score(brfc, X, Y, cv=10)\n",
    "    print('mean crossvalidated accuracy for training set after Adaboost: {}'.format(np.mean(bScores)))\n",
    "    return brfc.fit(X,Y)"
   ]
  },
  {
   "cell_type": "code",
   "execution_count": 19,
   "metadata": {
    "collapsed": false
   },
   "outputs": [],
   "source": [
    "import random\n",
    "random.seed = 0\n",
    "\n",
    "split = np.random.rand(len(X_train)) < 0.8\n",
    "X_tr = X_train[split]\n",
    "X_te = X_train[~split]\n",
    "Y_tr = y_train[split]\n",
    "Y_te = y_train[~split]"
   ]
  },
  {
   "cell_type": "code",
   "execution_count": 22,
   "metadata": {
    "collapsed": false
   },
   "outputs": [
    {
     "name": "stdout",
     "output_type": "stream",
     "text": [
      "\n",
      "XG Boosted\n",
      "row done\n",
      "col done\n",
      "all done\n"
     ]
    }
   ],
   "source": [
    "# X_tr = X_train.iloc[:int(len(X_train)*0.8)]\n",
    "# Y_tr = y_train.iloc[:int(len(y_train)*0.8)]\n",
    "    \n",
    "# X_te = X_train.iloc[int(len(X_train)*0.8)+1:]\n",
    "# Y_te = y_train.iloc[int(len(y_train)*0.8)+1:]      \n",
    "xgBoosted = {}\n",
    "print(\"\\nXG Boosted\")\n",
    "xgBoosted['rs'] = row_XG.best_estimator_.fit(X_tr, Y_tr)\n",
    "xg_pred_rs = xgBoosted['rs'].predict(X_te)\n",
    "xg_pred_prob_rs = xgBoosted['rs'].predict_proba(X_te)\n",
    "print(\"row done\")   \n",
    "xgBoosted['cs'] = col_XG.best_estimator_.fit(X_tr, Y_tr)\n",
    "xg_pred_cs = xgBoosted['cs'].predict(X_te)\n",
    "xg_pred_prob_cs = xgBoosted['cs'].predict_proba(X_te)\n",
    "print(\"col done\")   \n",
    "xgBoosted['ss'] = split_XG.best_estimator_.fit(X_tr, Y_tr)\n",
    "xg_pred_ss = xgBoosted['ss'].predict(X_te)\n",
    "xg_pred_prob_ss = xgBoosted['ss'].predict_proba(X_te)\n",
    "print(\"all done\")   "
   ]
  },
  {
   "cell_type": "code",
   "execution_count": 24,
   "metadata": {
    "collapsed": false
   },
   "outputs": [
    {
     "name": "stdout",
     "output_type": "stream",
     "text": [
      "\n",
      "Random Forest\n",
      "\n",
      "Adaboosted\n",
      "mean crossvalidated accuracy for training set after Adaboost: 0.884634322856428\n"
     ]
    }
   ],
   "source": [
    "print(\"\\nRandom Forest\")\n",
    "best_rfc =  regular_RFC.fit(X_tr, Y_tr)\n",
    "grid_rfc_pred = best_rfc.predict(X_te)\n",
    "grid_rfc_pred_prob = best_rfc.predict_proba(X_te)\n",
    "\n",
    "print(\"\\nAdaboosted\")\n",
    "adaboosted = adaboostedRFC(best_rfc.best_estimator_,X_tr,Y_tr)\n",
    "ada_pred = adaboosted.predict(X_te)\n",
    "ada_pred_prob = adaboosted.predict_proba(X_te)"
   ]
  },
  {
   "cell_type": "code",
   "execution_count": 25,
   "metadata": {
    "collapsed": false
   },
   "outputs": [
    {
     "name": "stdout",
     "output_type": "stream",
     "text": [
      "*****BOF*****\n",
      "\n",
      "Report for: GridSearched RFC\n",
      "             precision    recall  f1-score   support\n",
      "\n",
      "        bot       0.83      0.93      0.88       293\n",
      "    not-bot       0.92      0.81      0.86       285\n",
      "\n",
      "avg / total       0.87      0.87      0.87       578\n",
      "\n",
      "Confusion Matrix\n",
      " [[272  21]\n",
      " [ 55 230]]\n",
      "F1 Score: 0.858208955224\n",
      "Accuracy: 0.868512110727\n",
      "Log Loss: 4.54145985737\n",
      "AUC Score: 0.937512723789\n"
     ]
    },
    {
     "name": "stderr",
     "output_type": "stream",
     "text": [
      "/home/munaf/anaconda2/envs/py35/lib/python3.5/site-packages/matplotlib/axes/_axes.py:545: UserWarning: No labelled objects found. Use label='...' kwarg on individual plots.\n",
      "  warnings.warn(\"No labelled objects found. \"\n"
     ]
    },
    {
     "data": {
      "image/png": "[encoded data removed]",
      "text/plain": [
       "<matplotlib.figure.Figure at 0x7fe78734d4e0>"
      ]
     },
     "metadata": {},
     "output_type": "display_data"
    },
    {
     "name": "stdout",
     "output_type": "stream",
     "text": [
      "\n",
      "\n",
      "Report for: Adaboosted\n",
      "             precision    recall  f1-score   support\n",
      "\n",
      "        bot       0.82      0.92      0.87       293\n",
      "    not-bot       0.90      0.80      0.85       285\n",
      "\n",
      "avg / total       0.86      0.86      0.86       578\n",
      "\n",
      "Confusion Matrix\n",
      " [[269  24]\n",
      " [ 58 227]]\n",
      "F1 Score: 0.847014925373\n",
      "Accuracy: 0.858131487889\n",
      "Log Loss: 4.89999801855\n",
      "AUC Score: 0.938734207532\n"
     ]
    },
    {
     "data": {
      "image/png": "[encoded data removed]",
      "text/plain": [
       "<matplotlib.figure.Figure at 0x7fe78734a5f8>"
      ]
     },
     "metadata": {},
     "output_type": "display_data"
    },
    {
     "name": "stdout",
     "output_type": "stream",
     "text": [
      "\n",
      "\n",
      "Report for: XG RS\n",
      "             precision    recall  f1-score   support\n",
      "\n",
      "        bot       0.84      0.92      0.88       293\n",
      "    not-bot       0.91      0.81      0.86       285\n",
      "\n",
      "avg / total       0.87      0.87      0.87       578\n",
      "\n",
      "Confusion Matrix\n",
      " [[270  23]\n",
      " [ 53 232]]\n",
      "F1 Score: 0.859259259259\n",
      "Accuracy: 0.868512110727\n",
      "Log Loss: 4.54146262414\n",
      "AUC Score: 0.950152685468\n"
     ]
    },
    {
     "data": {
      "image/png": "[encoded data removed]",
      "text/plain": [
       "<matplotlib.figure.Figure at 0x7fe787243400>"
      ]
     },
     "metadata": {},
     "output_type": "display_data"
    },
    {
     "name": "stdout",
     "output_type": "stream",
     "text": [
      "\n",
      "\n",
      "Report for: XG CS\n",
      "             precision    recall  f1-score   support\n",
      "\n",
      "        bot       0.84      0.93      0.88       293\n",
      "    not-bot       0.92      0.81      0.86       285\n",
      "\n",
      "avg / total       0.88      0.87      0.87       578\n",
      "\n",
      "Confusion Matrix\n",
      " [[272  21]\n",
      " [ 53 232]]\n",
      "F1 Score: 0.862453531599\n",
      "Accuracy: 0.871972318339\n",
      "Log Loss: 4.42194852036\n",
      "AUC Score: 0.952859110233\n"
     ]
    },
    {
     "data": {
      "image/png": "[encoded data removed]",
      "text/plain": [
       "<matplotlib.figure.Figure at 0x7fe7877dc128>"
      ]
     },
     "metadata": {},
     "output_type": "display_data"
    },
    {
     "name": "stdout",
     "output_type": "stream",
     "text": [
      "\n",
      "\n",
      "Report for: XG SS\n",
      "             precision    recall  f1-score   support\n",
      "\n",
      "        bot       0.83      0.93      0.88       293\n",
      "    not-bot       0.92      0.81      0.86       285\n",
      "\n",
      "avg / total       0.88      0.87      0.87       578\n",
      "\n",
      "Confusion Matrix\n",
      " [[273  20]\n",
      " [ 55 230]]\n",
      "F1 Score: 0.859813084112\n",
      "Accuracy: 0.870242214533\n",
      "Log Loss: 4.48170280548\n",
      "AUC Score: 0.951919046764\n"
     ]
    },
    {
     "data": {
      "image/png": "[encoded data removed]",
      "text/plain": [
       "<matplotlib.figure.Figure at 0x7fe78756bac8>"
      ]
     },
     "metadata": {},
     "output_type": "display_data"
    },
    {
     "name": "stdout",
     "output_type": "stream",
     "text": [
      "\n",
      "*****EOF*****\n"
     ]
    }
   ],
   "source": [
    "print(\"*****BOF*****\")\n",
    "reportCard(Y_te, grid_rfc_pred, grid_rfc_pred_prob,'GridSearched RFC')\n",
    "reportCard(Y_te, ada_pred, ada_pred_prob,'Adaboosted')\n",
    "reportCard(Y_te, xg_pred_rs, xg_pred_prob_rs,'XG RS')\n",
    "reportCard(Y_te, xg_pred_cs, xg_pred_prob_cs,'XG CS')\n",
    "reportCard(Y_te, xg_pred_ss, xg_pred_prob_ss,'XG SS')\n",
    "print(\"*****EOF*****\")"
   ]
  },
  {
   "cell_type": "code",
   "execution_count": 26,
   "metadata": {
    "collapsed": true
   },
   "outputs": [],
   "source": [
    "def SingleROC(y_true, predictions,names):\n",
    "    from sklearn import metrics\n",
    "    import matplotlib.pyplot as plt\n",
    "    %matplotlib inline\n",
    "\n",
    "    plt.figure(1)\n",
    "    plt.plot([0, 1], [0, 1], 'k--')\n",
    "    \n",
    "    for y_proba, name in zip(predictions,names):\n",
    "        curr_auc = metrics.roc_auc_score(y_true,y_proba[:,1])\n",
    "    \n",
    "        fpr,tpr,thresholds = metrics.roc_curve(y_true,y_proba[:,1])\n",
    "        plt.plot(fpr, tpr, label = '{} - AUC: {}'.format(name,curr_auc))\n",
    "        \n",
    "    plt.title('ROC curves')\n",
    "    plt.xlabel('False positive rate')\n",
    "    plt.ylabel('True positive rate')\n",
    "    plt.legend(loc='best')\n",
    "    plt.show()\n",
    "    print()\n"
   ]
  },
  {
   "cell_type": "code",
   "execution_count": 31,
   "metadata": {
    "collapsed": false
   },
   "outputs": [
    {
     "data": {
      "image/png": "[encoded data removed]",
      "text/plain": [
       "<matplotlib.figure.Figure at 0x7fe787340be0>"
      ]
     },
     "metadata": {},
     "output_type": "display_data"
    },
    {
     "name": "stdout",
     "output_type": "stream",
     "text": [
      "\n"
     ]
    }
   ],
   "source": [
    "y_true = Y_te\n",
    "predictions = [xg_pred_prob_rs, xg_pred_prob_cs, xg_pred_prob_ss, grid_rfc_pred_prob, ada_pred_prob]\n",
    "names = ['XGBoost(Row)','XGBoost(Col)','XGBoost(Split)','RF','AdaBoosted']\n",
    "SingleROC(y_true,predictions,names)"
   ]
  },
  {
   "cell_type": "code",
   "execution_count": null,
   "metadata": {
    "collapsed": true
   },
   "outputs": [],
   "source": []
  }
 ],
 "metadata": {
  "kernelspec": {
   "display_name": "Python 3",
   "language": "python",
   "name": "python3"
  },
  "language_info": {
   "codemirror_mode": {
    "name": "ipython",
    "version": 3
   },
   "file_extension": ".py",
   "mimetype": "text/x-python",
   "name": "python",
   "nbconvert_exporter": "python",
   "pygments_lexer": "ipython3",
   "version": "3.5.2"
  }
 },
 "nbformat": 4,
 "nbformat_minor": 2
}
