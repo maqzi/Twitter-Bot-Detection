{
 "cells": [
  {
   "cell_type": "markdown",
   "metadata": {},
   "source": [
    "# Terminator - Revamped"
   ]
  },
  {
   "cell_type": "markdown",
   "metadata": {},
   "source": [
    "## Load Libs"
   ]
  },
  {
   "cell_type": "code",
   "execution_count": 24,
   "metadata": {
    "collapsed": false
   },
   "outputs": [
    {
     "name": "stderr",
     "output_type": "stream",
     "text": [
      "/home/munaf/anaconda2/envs/py35/lib/python3.5/site-packages/matplotlib/__init__.py:1401: UserWarning:  This call to matplotlib.use() has no effect\n",
      "because the backend has already been chosen;\n",
      "matplotlib.use() must be called *before* pylab, matplotlib.pyplot,\n",
      "or matplotlib.backends is imported for the first time.\n",
      "\n",
      "  warnings.warn(_use_error_msg)\n"
     ]
    }
   ],
   "source": [
    "import pandas as pd\n",
    "import numpy as np\n",
    "import sklearn\n",
    "from sklearn.ensemble import RandomForestClassifier\n",
    "from xgboost import XGBClassifier\n",
    "from sklearn.model_selection import GridSearchCV\n",
    "from sklearn.model_selection import StratifiedKFold\n",
    "from sklearn.model_selection import cross_val_score\n",
    "from sklearn.model_selection import cross_val_predict\n",
    "import matplotlib\n",
    "matplotlib.use('Agg')\n",
    "from matplotlib import pyplot\n",
    "%matplotlib inline"
   ]
  },
  {
   "cell_type": "markdown",
   "metadata": {},
   "source": [
    "## Important Functions"
   ]
  },
  {
   "cell_type": "code",
   "execution_count": 2,
   "metadata": {
    "collapsed": true
   },
   "outputs": [],
   "source": [
    "def runNameAnalysis(df):\n",
    "    df['contains_bot'] = df['screen_name'].str.contains('bot',case=False)*1\n",
    "\n",
    "def calculateRatios(df):\n",
    "    df['ff_Ratio'] = (df['friends_count']+1)/(df['followers_count']+1)\n",
    "\n",
    "def assumeVerification(df):\n",
    "    df.ix[df['verified'].isnull() & df['ff_Ratio']<0.04,'verified'] = 1\n",
    "    df.ix[df['verified'].isnull() & df['ff_Ratio']>0.04,'verified'] = 0\n",
    "\n",
    "def isEnglish(df):\n",
    "    df['english'] = 0\n",
    "    df.ix[df['lang'].isin(['en','en-gb']),'english'] = 1\n",
    "    \n",
    "def assumeExtended(df):\n",
    "    df.ix[df['has_extended_profile'].isnull() & df['ff_Ratio']<0.02,'has_extended_profile'] = 1\n",
    "    df.ix[df['has_extended_profile'].isnull() & df['ff_Ratio']>0.02,'has_extended_profile'] = 0"
   ]
  },
  {
   "cell_type": "markdown",
   "metadata": {},
   "source": [
    "## Training Data"
   ]
  },
  {
   "cell_type": "code",
   "execution_count": 3,
   "metadata": {
    "collapsed": false
   },
   "outputs": [],
   "source": [
    "# load data\n",
    "traindata = pd.read_csv('training_data.csv', sep=\",\", encoding='latin1')\n",
    "traindata.fillna('', inplace=True)\n",
    "\n",
    "# add a column 'svm_guess' with a SVM classification of the description\n",
    "traindata['svm_guess'] = pd.read_csv('svm_guess.csv', header=None)\n",
    "\n",
    "runNameAnalysis(traindata)\n",
    "isEnglish(traindata)\n",
    "\n",
    "traindata = traindata.drop(['id', 'id_str', 'url', 'default_profile', 'default_profile_image', 'screen_name', 'location',\n",
    "              'status', 'lang', 'description', 'created_at', 'name'], 1)\n",
    "\n",
    "calculateRatios(traindata)\n",
    "assumeVerification(traindata)\n",
    "assumeExtended(traindata)\n",
    "# print(np.mean(traindata[traindata['verified']==True]['ff_Ratio']))  #mean = 0.04\n",
    "\n",
    "for c in traindata.columns:\n",
    "    if(traindata[c].dtype==object):\n",
    "        traindata[c] = (traindata[c]).astype(np.float64)\n",
    "\n",
    "X_train = traindata.drop('bot',1)\n",
    "y_train = traindata['bot']"
   ]
  },
  {
   "cell_type": "markdown",
   "metadata": {},
   "source": [
    "## Test Data"
   ]
  },
  {
   "cell_type": "code",
   "execution_count": 4,
   "metadata": {
    "collapsed": false
   },
   "outputs": [],
   "source": [
    "testdata = pd.read_csv('test_data_4_students.csv', sep=\",\", encoding='utf-8')\n",
    "testdata.fillna('', inplace=True)\n",
    "testdata = testdata[:575]\n",
    "\n",
    "# add a svm guess column\n",
    "testdata['svm_guess'] = pd.read_csv('svm_test_guess.csv', header=None)\n",
    "\n",
    "testdata['id'] = testdata['id'].astype(np.int64)\n",
    "testdata = testdata.set_index(['id'])"
   ]
  },
  {
   "cell_type": "code",
   "execution_count": 5,
   "metadata": {
    "collapsed": false
   },
   "outputs": [],
   "source": [
    "# add a column 'name_analysis'\n",
    "runNameAnalysis(testdata)\n",
    "\n",
    "# do a language analysis thingy\n",
    "isEnglish(testdata)"
   ]
  },
  {
   "cell_type": "code",
   "execution_count": 6,
   "metadata": {
    "collapsed": false
   },
   "outputs": [],
   "source": [
    "testdata = testdata.drop(['id_str', 'url', 'default_profile', 'default_profile_image', 'screen_name', 'location',\n",
    "              'status', 'description', 'created_at', 'name','bot','lang'], 1)"
   ]
  },
  {
   "cell_type": "code",
   "execution_count": 7,
   "metadata": {
    "collapsed": false
   },
   "outputs": [],
   "source": [
    "for c in testdata.columns:\n",
    "    if(testdata[c].dtype==object):\n",
    "        testdata[c] = testdata[c].replace(['TRUE','FALSE','None'], [1,0,np.NaN])\n",
    "\n",
    "for c in testdata.columns:\n",
    "    if(testdata[c].dtype==object):\n",
    "        testdata[c] = (testdata[c]).astype(np.float64)\n",
    "\n",
    "for c in testdata.drop(['verified','has_extended_profile'],1).columns:\n",
    "    testdata[c] = testdata[c].replace([np.NaN],testdata[c].mean(skipna=True, axis=0))\n",
    "\n",
    "testdata.columns = ['followers_count', 'friends_count', 'listedcount', 'favourites_count',\n",
    "       'verified', 'statuses_count','has_extended_profile','svm_guess','contains_bot','english']"
   ]
  },
  {
   "cell_type": "code",
   "execution_count": 8,
   "metadata": {
    "collapsed": false
   },
   "outputs": [
    {
     "data": {
      "text/html": [
       "<div>\n",
       "<table border=\"1\" class=\"dataframe\">\n",
       "  <thead>\n",
       "    <tr style=\"text-align: right;\">\n",
       "      <th></th>\n",
       "      <th>followers_count</th>\n",
       "      <th>friends_count</th>\n",
       "      <th>listedcount</th>\n",
       "      <th>favourites_count</th>\n",
       "      <th>verified</th>\n",
       "      <th>statuses_count</th>\n",
       "      <th>has_extended_profile</th>\n",
       "      <th>svm_guess</th>\n",
       "      <th>contains_bot</th>\n",
       "      <th>english</th>\n",
       "    </tr>\n",
       "    <tr>\n",
       "      <th>id</th>\n",
       "      <th></th>\n",
       "      <th></th>\n",
       "      <th></th>\n",
       "      <th></th>\n",
       "      <th></th>\n",
       "      <th></th>\n",
       "      <th></th>\n",
       "      <th></th>\n",
       "      <th></th>\n",
       "      <th></th>\n",
       "    </tr>\n",
       "  </thead>\n",
       "  <tbody>\n",
       "    <tr>\n",
       "      <th>2281292622</th>\n",
       "      <td>4466.0</td>\n",
       "      <td>1295.0</td>\n",
       "      <td>111.0</td>\n",
       "      <td>1579.000000</td>\n",
       "      <td>1.0</td>\n",
       "      <td>3036.0</td>\n",
       "      <td>0.0</td>\n",
       "      <td>0</td>\n",
       "      <td>0</td>\n",
       "      <td>1</td>\n",
       "    </tr>\n",
       "    <tr>\n",
       "      <th>2344040251</th>\n",
       "      <td>295.0</td>\n",
       "      <td>1016.0</td>\n",
       "      <td>10.0</td>\n",
       "      <td>300.000000</td>\n",
       "      <td>0.0</td>\n",
       "      <td>618.0</td>\n",
       "      <td>0.0</td>\n",
       "      <td>0</td>\n",
       "      <td>0</td>\n",
       "      <td>1</td>\n",
       "    </tr>\n",
       "    <tr>\n",
       "      <th>765871267</th>\n",
       "      <td>1001678.0</td>\n",
       "      <td>3017.0</td>\n",
       "      <td>14.0</td>\n",
       "      <td>13040.000000</td>\n",
       "      <td>1.0</td>\n",
       "      <td>3329.0</td>\n",
       "      <td>1.0</td>\n",
       "      <td>0</td>\n",
       "      <td>0</td>\n",
       "      <td>1</td>\n",
       "    </tr>\n",
       "    <tr>\n",
       "      <th>4772373433</th>\n",
       "      <td>445.0</td>\n",
       "      <td>487.0</td>\n",
       "      <td>17.0</td>\n",
       "      <td>1112.000000</td>\n",
       "      <td>0.0</td>\n",
       "      <td>46.0</td>\n",
       "      <td>1.0</td>\n",
       "      <td>1</td>\n",
       "      <td>0</td>\n",
       "      <td>0</td>\n",
       "    </tr>\n",
       "    <tr>\n",
       "      <th>1324548560</th>\n",
       "      <td>187.0</td>\n",
       "      <td>68.0</td>\n",
       "      <td>13.0</td>\n",
       "      <td>3576.781003</td>\n",
       "      <td>NaN</td>\n",
       "      <td>690359.0</td>\n",
       "      <td>NaN</td>\n",
       "      <td>1</td>\n",
       "      <td>1</td>\n",
       "      <td>0</td>\n",
       "    </tr>\n",
       "  </tbody>\n",
       "</table>\n",
       "</div>"
      ],
      "text/plain": [
       "            followers_count  friends_count  listedcount  favourites_count  \\\n",
       "id                                                                          \n",
       "2281292622           4466.0         1295.0        111.0       1579.000000   \n",
       "2344040251            295.0         1016.0         10.0        300.000000   \n",
       "765871267         1001678.0         3017.0         14.0      13040.000000   \n",
       "4772373433            445.0          487.0         17.0       1112.000000   \n",
       "1324548560            187.0           68.0         13.0       3576.781003   \n",
       "\n",
       "            verified  statuses_count  has_extended_profile  svm_guess  \\\n",
       "id                                                                      \n",
       "2281292622       1.0          3036.0                   0.0          0   \n",
       "2344040251       0.0           618.0                   0.0          0   \n",
       "765871267        1.0          3329.0                   1.0          0   \n",
       "4772373433       0.0            46.0                   1.0          1   \n",
       "1324548560       NaN        690359.0                   NaN          1   \n",
       "\n",
       "            contains_bot  english  \n",
       "id                                 \n",
       "2281292622             0        1  \n",
       "2344040251             0        1  \n",
       "765871267              0        1  \n",
       "4772373433             0        0  \n",
       "1324548560             1        0  "
      ]
     },
     "execution_count": 8,
     "metadata": {},
     "output_type": "execute_result"
    }
   ],
   "source": [
    "testdata.head(5)"
   ]
  },
  {
   "cell_type": "code",
   "execution_count": 9,
   "metadata": {
    "collapsed": false
   },
   "outputs": [],
   "source": [
    "# CALCULATE RATIOS HERE - AFTER TEST DATA HAS BEEN FIXED\n",
    "calculateRatios(testdata)\n",
    "assumeVerification(testdata)\n",
    "assumeExtended(testdata)"
   ]
  },
  {
   "cell_type": "code",
   "execution_count": 10,
   "metadata": {
    "collapsed": false
   },
   "outputs": [
    {
     "data": {
      "text/html": [
       "<div>\n",
       "<table border=\"1\" class=\"dataframe\">\n",
       "  <thead>\n",
       "    <tr style=\"text-align: right;\">\n",
       "      <th></th>\n",
       "      <th>followers_count</th>\n",
       "      <th>friends_count</th>\n",
       "      <th>listedcount</th>\n",
       "      <th>favourites_count</th>\n",
       "      <th>verified</th>\n",
       "      <th>statuses_count</th>\n",
       "      <th>has_extended_profile</th>\n",
       "      <th>svm_guess</th>\n",
       "      <th>contains_bot</th>\n",
       "      <th>english</th>\n",
       "      <th>ff_Ratio</th>\n",
       "    </tr>\n",
       "    <tr>\n",
       "      <th>id</th>\n",
       "      <th></th>\n",
       "      <th></th>\n",
       "      <th></th>\n",
       "      <th></th>\n",
       "      <th></th>\n",
       "      <th></th>\n",
       "      <th></th>\n",
       "      <th></th>\n",
       "      <th></th>\n",
       "      <th></th>\n",
       "      <th></th>\n",
       "    </tr>\n",
       "  </thead>\n",
       "  <tbody>\n",
       "    <tr>\n",
       "      <th>2281292622</th>\n",
       "      <td>4466.0</td>\n",
       "      <td>1295.0</td>\n",
       "      <td>111.0</td>\n",
       "      <td>1579.000000</td>\n",
       "      <td>1.0</td>\n",
       "      <td>3036.0</td>\n",
       "      <td>1.0</td>\n",
       "      <td>0</td>\n",
       "      <td>0</td>\n",
       "      <td>1</td>\n",
       "      <td>0.290128</td>\n",
       "    </tr>\n",
       "    <tr>\n",
       "      <th>2344040251</th>\n",
       "      <td>295.0</td>\n",
       "      <td>1016.0</td>\n",
       "      <td>10.0</td>\n",
       "      <td>300.000000</td>\n",
       "      <td>1.0</td>\n",
       "      <td>618.0</td>\n",
       "      <td>1.0</td>\n",
       "      <td>0</td>\n",
       "      <td>0</td>\n",
       "      <td>1</td>\n",
       "      <td>3.435811</td>\n",
       "    </tr>\n",
       "    <tr>\n",
       "      <th>765871267</th>\n",
       "      <td>1001678.0</td>\n",
       "      <td>3017.0</td>\n",
       "      <td>14.0</td>\n",
       "      <td>13040.000000</td>\n",
       "      <td>1.0</td>\n",
       "      <td>3329.0</td>\n",
       "      <td>1.0</td>\n",
       "      <td>0</td>\n",
       "      <td>0</td>\n",
       "      <td>1</td>\n",
       "      <td>0.003013</td>\n",
       "    </tr>\n",
       "    <tr>\n",
       "      <th>4772373433</th>\n",
       "      <td>445.0</td>\n",
       "      <td>487.0</td>\n",
       "      <td>17.0</td>\n",
       "      <td>1112.000000</td>\n",
       "      <td>1.0</td>\n",
       "      <td>46.0</td>\n",
       "      <td>1.0</td>\n",
       "      <td>1</td>\n",
       "      <td>0</td>\n",
       "      <td>0</td>\n",
       "      <td>1.094170</td>\n",
       "    </tr>\n",
       "    <tr>\n",
       "      <th>1324548560</th>\n",
       "      <td>187.0</td>\n",
       "      <td>68.0</td>\n",
       "      <td>13.0</td>\n",
       "      <td>3576.781003</td>\n",
       "      <td>0.0</td>\n",
       "      <td>690359.0</td>\n",
       "      <td>0.0</td>\n",
       "      <td>1</td>\n",
       "      <td>1</td>\n",
       "      <td>0</td>\n",
       "      <td>0.367021</td>\n",
       "    </tr>\n",
       "  </tbody>\n",
       "</table>\n",
       "</div>"
      ],
      "text/plain": [
       "            followers_count  friends_count  listedcount  favourites_count  \\\n",
       "id                                                                          \n",
       "2281292622           4466.0         1295.0        111.0       1579.000000   \n",
       "2344040251            295.0         1016.0         10.0        300.000000   \n",
       "765871267         1001678.0         3017.0         14.0      13040.000000   \n",
       "4772373433            445.0          487.0         17.0       1112.000000   \n",
       "1324548560            187.0           68.0         13.0       3576.781003   \n",
       "\n",
       "            verified  statuses_count  has_extended_profile  svm_guess  \\\n",
       "id                                                                      \n",
       "2281292622       1.0          3036.0                   1.0          0   \n",
       "2344040251       1.0           618.0                   1.0          0   \n",
       "765871267        1.0          3329.0                   1.0          0   \n",
       "4772373433       1.0            46.0                   1.0          1   \n",
       "1324548560       0.0        690359.0                   0.0          1   \n",
       "\n",
       "            contains_bot  english  ff_Ratio  \n",
       "id                                           \n",
       "2281292622             0        1  0.290128  \n",
       "2344040251             0        1  3.435811  \n",
       "765871267              0        1  0.003013  \n",
       "4772373433             0        0  1.094170  \n",
       "1324548560             1        0  0.367021  "
      ]
     },
     "execution_count": 10,
     "metadata": {},
     "output_type": "execute_result"
    }
   ],
   "source": [
    "testdata.head(5)"
   ]
  },
  {
   "cell_type": "markdown",
   "metadata": {},
   "source": [
    "## Remove Items"
   ]
  },
  {
   "cell_type": "code",
   "execution_count": 11,
   "metadata": {
    "collapsed": false
   },
   "outputs": [],
   "source": [
    "to_drop = ['svm_guess','listedcount','favourites_count']\n",
    "X_train = X_train.drop(to_drop,1)\n",
    "testdata = testdata.drop(to_drop,1)"
   ]
  },
  {
   "cell_type": "markdown",
   "metadata": {},
   "source": [
    "## Model(s) - Weapon(s)"
   ]
  },
  {
   "cell_type": "code",
   "execution_count": 12,
   "metadata": {
    "collapsed": false
   },
   "outputs": [
    {
     "name": "stdout",
     "output_type": "stream",
     "text": [
      "Grid Searched RF\n",
      "{'max_features': 'log2', 'n_estimators': 70, 'criterion': 'gini'}\n",
      "RF: score of the best estimator over the leftout set: 0.890239542367\n",
      "RF: score of the best estimator over the complete set: 0.998927422238\n",
      "\n"
     ]
    }
   ],
   "source": [
    "rfc = RandomForestClassifier()\n",
    "param_grid = {'n_estimators': np.arange(10, 100, 10),\n",
    "              'max_features': ['sqrt', 'log2', None],\n",
    "              'criterion': ['gini', 'entropy'],\n",
    "              }\n",
    "\n",
    "'''\n",
    "All Parameters in a RFC\n",
    "            'max_depth':[None],\n",
    "            'min_samples_split':[2],\n",
    "            'min_samples_leaf':[1],\n",
    "            'min_weight_fraction_leaf':[0.0],\n",
    "            'max_leaf_nodes':[None],\n",
    "            'min_impurity_split':[1e-07],\n",
    "            'bootstrap':[True],\n",
    "            'oob_score':[False],\n",
    "            'n_jobs':[1],\n",
    "            'random_state':[None],\n",
    "            'verbose':[0],\n",
    "            'warm_start':[False],\n",
    "            'class_weight':[None]\n",
    "'''\n",
    "# # Performing a Grid Search to find best RFC\n",
    "regular_RFC = GridSearchCV(estimator=rfc, param_grid=param_grid, cv=10)\n",
    "regular_RFC.fit(X_train, y_train)\n",
    "print('Grid Searched RF')\n",
    "print(regular_RFC.best_params_)\n",
    "\n",
    "print(\"RF: score of the best estimator over the leftout set:\",regular_RFC.best_score_)\n",
    "print(\"RF: score of the best estimator over the complete set:\",regular_RFC.best_estimator_.score(X_train,y_train))\n",
    "print()"
   ]
  },
  {
   "cell_type": "code",
   "execution_count": 27,
   "metadata": {
    "collapsed": false
   },
   "outputs": [
    {
     "name": "stdout",
     "output_type": "stream",
     "text": [
      "RSXG: score of the best estimator over the leftout set: 0.890239542367\n",
      "RSXG: score of the best estimator over the complete set: 0.908115838398\n",
      "\n"
     ]
    },
    {
     "data": {
      "image/png": "[encoded data removed]",
      "text/plain": [
       "<matplotlib.figure.Figure at 0x7f96621ea828>"
      ]
     },
     "metadata": {},
     "output_type": "display_data"
    }
   ],
   "source": [
    "# XGBOOST\n",
    "##############\n",
    "# ROW SAMPLING\n",
    "model = XGBClassifier()\n",
    "# from sklearn.linear_model import LogisticRegression\n",
    "# model = LogisticRegression()\n",
    "\n",
    "subsample = [0.1, 0.2, 0.3, 0.4, 0.5, 0.6, 0.7, 0.8, 1.0]\n",
    "param_grid = dict(subsample=subsample)\n",
    "kfold = StratifiedKFold(n_splits=10, shuffle=True, random_state=7)\n",
    "# grid_search = GridSearchCV(model, param_grid, scoring=\"neg_log_loss\", n_jobs=-1, cv=kfold)\n",
    "grid_search = GridSearchCV(model, param_grid, n_jobs=-1, cv=kfold)\n",
    "row_XG = grid_search.fit(X_train, y_train)\n",
    "\n",
    "print(\"RSXG: score of the best estimator over the leftout set:\",row_XG.best_score_)\n",
    "print(\"RSXG: score of the best estimator over the complete set:\",row_XG.best_estimator_.score(X_train,y_train))\n",
    "print()\n",
    "\n",
    "means_rs = row_XG.cv_results_['mean_test_score']\n",
    "stds_rs = row_XG.cv_results_['std_test_score']\n",
    "\n",
    "# plot\n",
    "pyplot.figure()\n",
    "pyplot.errorbar(subsample, means_rs, yerr=stds_rs)\n",
    "pyplot.title(\"XGBoost subsample vs Accuracy\")\n",
    "pyplot.xlabel('subsample')\n",
    "pyplot.ylabel('Accuracy')\n",
    "pyplot.savefig('subsample.png')"
   ]
  },
  {
   "cell_type": "code",
   "execution_count": 28,
   "metadata": {
    "collapsed": false
   },
   "outputs": [
    {
     "name": "stdout",
     "output_type": "stream",
     "text": [
      "CSXG: score of the best estimator over the leftout set: 0.891312120129\n",
      "CSXG: score of the best estimator over the complete set: 0.907758312478\n",
      "\n"
     ]
    },
    {
     "data": {
      "image/png": "[encoded data removed]",
      "text/plain": [
       "<matplotlib.figure.Figure at 0x7f965135c6a0>"
      ]
     },
     "metadata": {},
     "output_type": "display_data"
    }
   ],
   "source": [
    "# COLUMN SAMPLING\n",
    "colsample_bytree = [0.2, 0.3, 0.4, 0.5, 0.6, 0.7, 0.8, 1.0]\n",
    "param_grid = dict(colsample_bytree=colsample_bytree)\n",
    "# grid_search = GridSearchCV(model, param_grid, scoring=\"neg_log_loss\", n_jobs=-1, cv=kfold)\n",
    "grid_search = GridSearchCV(model, param_grid, n_jobs=-1, cv=kfold)\n",
    "col_XG = grid_search.fit(X_train, y_train)\n",
    "\n",
    "print(\"CSXG: score of the best estimator over the leftout set:\",col_XG.best_score_)\n",
    "print(\"CSXG: score of the best estimator over the complete set:\",col_XG.best_estimator_.score(X_train,y_train))\n",
    "print()\n",
    "\n",
    "means_cs = col_XG.cv_results_['mean_test_score']\n",
    "stds_cs = col_XG.cv_results_['std_test_score']\n",
    "\n",
    "# plot\n",
    "pyplot.figure()\n",
    "pyplot.errorbar(colsample_bytree, means_cs, yerr=stds_cs)\n",
    "pyplot.title(\"XGBoost colsample_bytree vs Accuracy\")\n",
    "pyplot.xlabel('colsample_bytree')\n",
    "pyplot.ylabel('Accuracy')\n",
    "pyplot.savefig('colsample_bytree.png')"
   ]
  },
  {
   "cell_type": "code",
   "execution_count": 29,
   "metadata": {
    "collapsed": false
   },
   "outputs": [
    {
     "name": "stdout",
     "output_type": "stream",
     "text": [
      "SSXG: score of the best estimator over the leftout set: 0.890239542367\n",
      "SSXG: score of the best estimator over the complete set: 0.908115838398\n",
      "\n"
     ]
    },
    {
     "data": {
      "image/png": "[encoded data removed]",
      "text/plain": [
       "<matplotlib.figure.Figure at 0x7f965150a8d0>"
      ]
     },
     "metadata": {},
     "output_type": "display_data"
    }
   ],
   "source": [
    "# SPLIT SAMPLE\n",
    "colsample_bylevel = [0.2, 0.3, 0.4, 0.5, 0.6, 0.7, 0.8, 1.0]\n",
    "param_grid = dict(colsample_bylevel=colsample_bylevel)\n",
    "# grid_search = GridSearchCV(model, param_grid, scoring=\"neg_log_loss\", n_jobs=-1, cv=kfold)\n",
    "grid_search = GridSearchCV(model, param_grid, n_jobs=-1, cv=kfold)\n",
    "split_XG = grid_search.fit(X_train, y_train)\n",
    "\n",
    "print(\"SSXG: score of the best estimator over the leftout set:\",split_XG.best_score_)\n",
    "print(\"SSXG: score of the best estimator over the complete set:\",split_XG.best_estimator_.score(X_train,y_train))\n",
    "print()\n",
    "\n",
    "means_ss = col_XG.cv_results_['mean_test_score']\n",
    "stds_ss = col_XG.cv_results_['std_test_score']\n",
    "\n",
    "# plot\n",
    "pyplot.figure()\n",
    "pyplot.errorbar(colsample_bylevel, means_ss, yerr=stds_ss)\n",
    "pyplot.title(\"XGBoost colsample_bylevel vs Accuracy\")\n",
    "pyplot.xlabel('colsample_bylevel')\n",
    "pyplot.ylabel('Accuracy')\n",
    "pyplot.savefig('colsample_bylevel.png')"
   ]
  },
  {
   "cell_type": "markdown",
   "metadata": {},
   "source": [
    "### Nuke"
   ]
  },
  {
   "cell_type": "code",
   "execution_count": 21,
   "metadata": {
    "collapsed": false
   },
   "outputs": [],
   "source": [
    "# need a better model? "
   ]
  },
  {
   "cell_type": "code",
   "execution_count": 17,
   "metadata": {
    "collapsed": false
   },
   "outputs": [
    {
     "data": {
      "text/plain": [
       "followers_count         9.691957e+07\n",
       "friends_count           6.304920e+05\n",
       "verified                1.000000e+00\n",
       "statuses_count          1.618652e+06\n",
       "has_extended_profile    1.000000e+00\n",
       "contains_bot            1.000000e+00\n",
       "english                 1.000000e+00\n",
       "ff_Ratio                6.029201e+02\n",
       "dtype: float64"
      ]
     },
     "execution_count": 17,
     "metadata": {},
     "output_type": "execute_result"
    }
   ],
   "source": [
    "np.max(testdata)"
   ]
  },
  {
   "cell_type": "markdown",
   "metadata": {},
   "source": [
    "## Create Predictions File"
   ]
  },
  {
   "cell_type": "code",
   "execution_count": 20,
   "metadata": {
    "collapsed": false
   },
   "outputs": [],
   "source": [
    "#select model from above\n",
    "preds_for = split_XG\n",
    "\n",
    "testdata['y_pred'] = preds_for.predict(testdata)\n",
    "answer = pd.DataFrame(testdata['y_pred'])\n",
    "answer.to_csv('results_file_new.csv',index=True,index_label='Id',header=['Bot'])\n",
    "testdata = testdata.drop('y_pred',1)"
   ]
  },
  {
   "cell_type": "code",
   "execution_count": null,
   "metadata": {
    "collapsed": true
   },
   "outputs": [],
   "source": []
  },
  {
   "cell_type": "code",
   "execution_count": null,
   "metadata": {
    "collapsed": true
   },
   "outputs": [],
   "source": []
  }
 ],
 "metadata": {
  "kernelspec": {
   "display_name": "Python 3",
   "language": "python",
   "name": "python3"
  },
  "language_info": {
   "codemirror_mode": {
    "name": "ipython",
    "version": 3
   },
   "file_extension": ".py",
   "mimetype": "text/x-python",
   "name": "python",
   "nbconvert_exporter": "python",
   "pygments_lexer": "ipython3",
   "version": "3.5.2"
  }
 },
 "nbformat": 4,
 "nbformat_minor": 2
}
